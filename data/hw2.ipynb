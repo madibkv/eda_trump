{
 "cells": [
  {
   "cell_type": "code",
   "execution_count": 1,
   "metadata": {},
   "outputs": [
    {
     "name": "stdout",
     "output_type": "stream",
     "text": [
      "=====================================================================\n",
      "Assignment: hw2\n",
      "OK, version v1.18.1\n",
      "=====================================================================\n",
      "\n"
     ]
    }
   ],
   "source": [
    "# ! pip install -U okpy  # Uncomment if you have an error\n",
    "from client.api.notebook import Notebook\n",
    "ok = Notebook('hw2.ok')"
   ]
  },
  {
   "cell_type": "markdown",
   "metadata": {
    "nbgrader": {
     "grade": false,
     "grade_id": "intro",
     "locked": true,
     "schema_version": 2,
     "solution": false
    }
   },
   "source": [
    "# Homework 2: Exploratory Data Analysis (EDA)\n",
    "\n",
    "## Due Date: Fri 4/9, 11:59 pm PST\n",
    "\n",
    "**Collaboration Policy:** You may talk with others about the homework, but we ask that you **write your solutions individually**. If you do discuss the assignments with others, please **include their names** in the following line.\n",
    "\n",
    "**Collaborators**: *list collaborators here (if applicable)*"
   ]
  },
  {
   "cell_type": "markdown",
   "metadata": {},
   "source": [
    "### Score Breakdown\n",
    "\n",
    "Question | Points\n",
    "--- | ---\n",
    "Question 1a | 2\n",
    "Question 1b | 1\n",
    "Question 1c | 2\n",
    "Question 2 | 2\n",
    "Question 3 | 1\n",
    "Question 4 | 2\n",
    "Question 5a | 1\n",
    "Question 5b | 2\n",
    "Question 5c | 2\n",
    "Question 6a | 1\n",
    "Question 6b | 1\n",
    "Question 6c | 1\n",
    "Question 6d | 2\n",
    "Question 6e | 2\n",
    "Total | 22"
   ]
  },
  {
   "cell_type": "markdown",
   "metadata": {},
   "source": [
    "### Initialize your environment\n",
    "\n",
    "This cell should run without error."
   ]
  },
  {
   "cell_type": "code",
   "execution_count": 3,
   "metadata": {
    "nbgrader": {
     "grade": false,
     "grade_id": "import",
     "locked": true,
     "schema_version": 2,
     "solution": false
    }
   },
   "outputs": [],
   "source": [
    "import csv\n",
    "import numpy as np\n",
    "import pandas as pd\n",
    "import matplotlib.pyplot as plt\n",
    "import json\n",
    "import zipfile\n",
    "from pprint import pprint # to get a more easily-readable view.\n",
    "import ds100_utils\n",
    "\n",
    "# Ensure that Pandas shows at least 280 characters in columns, so we can see full tweets\n",
    "pd.set_option('max_colwidth', 280)\n",
    "\n",
    "%matplotlib inline\n",
    "plt.style.use('fivethirtyeight')\n",
    "import seaborn as sns\n",
    "sns.set()\n",
    "sns.set_context(\"talk\")\n",
    "import re"
   ]
  },
  {
   "cell_type": "markdown",
   "metadata": {},
   "source": [
    "---\n",
    "# Part 1: Bike Sharing\n",
    "\n",
    "The data we are exploring is collected from a bike sharing system in Washington D.C.\n",
    "\n",
    "The variables in this data frame are defined as:\n",
    "\n",
    "Variable       | Description\n",
    "-------------- | ------------------------------------------------------------------\n",
    "instant | record index\n",
    "dteday | date\n",
    "season | 1. spring <br> 2. summer <br> 3. fall <br> 4. winter\n",
    "yr | year (0: 2011, 1:2012)\n",
    "mnth | month ( 1 to 12)\n",
    "hr | hour (0 to 23)\n",
    "holiday | whether day is holiday or not\n",
    "weekday | day of the week\n",
    "workingday | if day is neither weekend nor holiday\n",
    "weathersit | 1. clear or partly cloudy <br> 2. mist and clouds <br> 3. light snow or rain <br> 4. heavy rain or snow\n",
    "temp | normalized temperature in Celsius (divided by 41)\n",
    "atemp | normalized \"feels-like\" temperature in Celsius (divided by 50)\n",
    "hum | normalized percent humidity (divided by 100)\n",
    "windspeed| normalized wind speed (divided by 67)\n",
    "casual | count of casual users\n",
    "registered | count of registered users\n",
    "cnt | count of total rental bikes including casual and registered  "
   ]
  },
  {
   "cell_type": "code",
   "execution_count": 4,
   "metadata": {},
   "outputs": [
    {
     "name": "stdout",
     "output_type": "stream",
     "text": [
      "instant,dteday,season,yr,mnth,hr,holiday,weekday,workingday,weathersit,temp,atemp,hum,windspeed,casual,registered,cnt\n",
      "1,2011-01-01,1,0,1,0,0,6,0,1,0.24,0.2879,0.81,0,3,13,16\n",
      "2,2011-01-01,1,0,1,1,0,6,0,1,0.22,0.2727,0.8,0,8,32,40\n",
      "3,2011-01-01,1,0,1,2,0,6,0,1,0.22,0.2727,0.8,0,5,27,32\n",
      "4,2011-01-01,1,0,1,3,0,6,0,1,0.24,0.2879,0.75,0,3,10,13\n"
     ]
    }
   ],
   "source": [
    "for line in ds100_utils.head('data/bikeshare.txt'):\n",
    "    print(line, end=\"\")"
   ]
  },
  {
   "cell_type": "markdown",
   "metadata": {},
   "source": [
    "### Loading the data\n",
    "\n",
    "The following code loads the data into a Pandas DataFrame."
   ]
  },
  {
   "cell_type": "code",
   "execution_count": 5,
   "metadata": {},
   "outputs": [
    {
     "data": {
      "text/html": [
       "<div>\n",
       "<style scoped>\n",
       "    .dataframe tbody tr th:only-of-type {\n",
       "        vertical-align: middle;\n",
       "    }\n",
       "\n",
       "    .dataframe tbody tr th {\n",
       "        vertical-align: top;\n",
       "    }\n",
       "\n",
       "    .dataframe thead th {\n",
       "        text-align: right;\n",
       "    }\n",
       "</style>\n",
       "<table border=\"1\" class=\"dataframe\">\n",
       "  <thead>\n",
       "    <tr style=\"text-align: right;\">\n",
       "      <th></th>\n",
       "      <th>instant</th>\n",
       "      <th>dteday</th>\n",
       "      <th>season</th>\n",
       "      <th>yr</th>\n",
       "      <th>mnth</th>\n",
       "      <th>hr</th>\n",
       "      <th>holiday</th>\n",
       "      <th>weekday</th>\n",
       "      <th>workingday</th>\n",
       "      <th>weathersit</th>\n",
       "      <th>temp</th>\n",
       "      <th>atemp</th>\n",
       "      <th>hum</th>\n",
       "      <th>windspeed</th>\n",
       "      <th>casual</th>\n",
       "      <th>registered</th>\n",
       "      <th>cnt</th>\n",
       "    </tr>\n",
       "  </thead>\n",
       "  <tbody>\n",
       "    <tr>\n",
       "      <th>0</th>\n",
       "      <td>1</td>\n",
       "      <td>2011-01-01</td>\n",
       "      <td>1</td>\n",
       "      <td>0</td>\n",
       "      <td>1</td>\n",
       "      <td>0</td>\n",
       "      <td>0</td>\n",
       "      <td>6</td>\n",
       "      <td>0</td>\n",
       "      <td>1</td>\n",
       "      <td>0.24</td>\n",
       "      <td>0.2879</td>\n",
       "      <td>0.81</td>\n",
       "      <td>0.0</td>\n",
       "      <td>3</td>\n",
       "      <td>13</td>\n",
       "      <td>16</td>\n",
       "    </tr>\n",
       "    <tr>\n",
       "      <th>1</th>\n",
       "      <td>2</td>\n",
       "      <td>2011-01-01</td>\n",
       "      <td>1</td>\n",
       "      <td>0</td>\n",
       "      <td>1</td>\n",
       "      <td>1</td>\n",
       "      <td>0</td>\n",
       "      <td>6</td>\n",
       "      <td>0</td>\n",
       "      <td>1</td>\n",
       "      <td>0.22</td>\n",
       "      <td>0.2727</td>\n",
       "      <td>0.80</td>\n",
       "      <td>0.0</td>\n",
       "      <td>8</td>\n",
       "      <td>32</td>\n",
       "      <td>40</td>\n",
       "    </tr>\n",
       "    <tr>\n",
       "      <th>2</th>\n",
       "      <td>3</td>\n",
       "      <td>2011-01-01</td>\n",
       "      <td>1</td>\n",
       "      <td>0</td>\n",
       "      <td>1</td>\n",
       "      <td>2</td>\n",
       "      <td>0</td>\n",
       "      <td>6</td>\n",
       "      <td>0</td>\n",
       "      <td>1</td>\n",
       "      <td>0.22</td>\n",
       "      <td>0.2727</td>\n",
       "      <td>0.80</td>\n",
       "      <td>0.0</td>\n",
       "      <td>5</td>\n",
       "      <td>27</td>\n",
       "      <td>32</td>\n",
       "    </tr>\n",
       "    <tr>\n",
       "      <th>3</th>\n",
       "      <td>4</td>\n",
       "      <td>2011-01-01</td>\n",
       "      <td>1</td>\n",
       "      <td>0</td>\n",
       "      <td>1</td>\n",
       "      <td>3</td>\n",
       "      <td>0</td>\n",
       "      <td>6</td>\n",
       "      <td>0</td>\n",
       "      <td>1</td>\n",
       "      <td>0.24</td>\n",
       "      <td>0.2879</td>\n",
       "      <td>0.75</td>\n",
       "      <td>0.0</td>\n",
       "      <td>3</td>\n",
       "      <td>10</td>\n",
       "      <td>13</td>\n",
       "    </tr>\n",
       "    <tr>\n",
       "      <th>4</th>\n",
       "      <td>5</td>\n",
       "      <td>2011-01-01</td>\n",
       "      <td>1</td>\n",
       "      <td>0</td>\n",
       "      <td>1</td>\n",
       "      <td>4</td>\n",
       "      <td>0</td>\n",
       "      <td>6</td>\n",
       "      <td>0</td>\n",
       "      <td>1</td>\n",
       "      <td>0.24</td>\n",
       "      <td>0.2879</td>\n",
       "      <td>0.75</td>\n",
       "      <td>0.0</td>\n",
       "      <td>0</td>\n",
       "      <td>1</td>\n",
       "      <td>1</td>\n",
       "    </tr>\n",
       "  </tbody>\n",
       "</table>\n",
       "</div>"
      ],
      "text/plain": [
       "   instant      dteday  season  yr  mnth  hr  holiday  weekday  workingday  \\\n",
       "0        1  2011-01-01       1   0     1   0        0        6           0   \n",
       "1        2  2011-01-01       1   0     1   1        0        6           0   \n",
       "2        3  2011-01-01       1   0     1   2        0        6           0   \n",
       "3        4  2011-01-01       1   0     1   3        0        6           0   \n",
       "4        5  2011-01-01       1   0     1   4        0        6           0   \n",
       "\n",
       "   weathersit  temp   atemp   hum  windspeed  casual  registered  cnt  \n",
       "0           1  0.24  0.2879  0.81        0.0       3          13   16  \n",
       "1           1  0.22  0.2727  0.80        0.0       8          32   40  \n",
       "2           1  0.22  0.2727  0.80        0.0       5          27   32  \n",
       "3           1  0.24  0.2879  0.75        0.0       3          10   13  \n",
       "4           1  0.24  0.2879  0.75        0.0       0           1    1  "
      ]
     },
     "execution_count": 5,
     "metadata": {},
     "output_type": "execute_result"
    }
   ],
   "source": [
    "bike = pd.read_csv('data/bikeshare.txt')\n",
    "bike.head()"
   ]
  },
  {
   "cell_type": "markdown",
   "metadata": {},
   "source": [
    "Below, we show the shape of the file. You should see that the size of the DataFrame matches the number of lines in the file, minus the header row."
   ]
  },
  {
   "cell_type": "code",
   "execution_count": 6,
   "metadata": {},
   "outputs": [
    {
     "data": {
      "text/plain": [
       "(17379, 17)"
      ]
     },
     "execution_count": 6,
     "metadata": {},
     "output_type": "execute_result"
    }
   ],
   "source": [
    "bike.shape"
   ]
  },
  {
   "cell_type": "markdown",
   "metadata": {},
   "source": [
    "<br/><br/><br/>\n",
    "<hr style=\"border: 5px solid #990000;\" />\n",
    "<hr style=\"border: 1px solid #dbbcac;\" />\n",
    "\n",
    "## Question 1: Data Preparation\n",
    "A few of the variables that are numeric/integer actually encode categorical data. These include `holiday`, `weekday`, `workingday`, and `weathersit`. In the following problem, we will convert these four variables to strings specifying the categories. In particular, use 3-letter labels (`Sun`, `Mon`, `Tue`, `Wed`, `Thu`, `Fri`, and `Sat`) for `weekday`. You may simply use `yes`/`no` for `holiday` and `workingday`. \n",
    "\n",
    "In this exercise we will *mutate* the data frame, **overwriting the corresponding variables in the data frame.** However, our notebook will effectively document this in-place data transformation for future readers. Make sure to leave the underlying datafile `bikeshare.txt` unmodified."
   ]
  },
  {
   "cell_type": "markdown",
   "metadata": {},
   "source": [
    "### Question 1a\n",
    "\n",
    "\n",
    "Decode the `holiday`, `weekday`, `workingday`, and `weathersit` fields:\n",
    "\n",
    "1. holiday: Convert to `yes` and `no`. **Hint**: There are fewer holidays...\n",
    "1. weekday: It turns out that Monday is the day with the most holidays.  Mutate the `'weekday'` column to use the 3-letter label (`'Sun'`, `'Mon'`, `'Tue'`, `'Wed'`, `'Thu'`, `'Fri'`, and `'Sat'`) instead of its current numerical values. Note `0` corresponds to `Sun`, `1` to `Mon` and so on.\n",
    "1. workingday: Convert to `yes` and `no`.\n",
    "1. weathersit: You should replace each value with one of `Clear`, `Mist`, `Light`, or `Heavy`.\n",
    "\n",
    "**Note:** If you want to revert changes, run the cell that reloads the csv.\n",
    "\n",
    "**Hint:**  One simple approach is to use the [replace](https://pandas.pydata.org/pandas-docs/stable/reference/api/pandas.DataFrame.replace.html) method of the pandas DataFrame class. We haven't discussed how to do this so you'll need to look at the documentation. The most concise way is with the approach described in the documentation as ``nested-dictonaries``, though there are many possible solutions. E.g. for a DataFrame nested dictionaries, e.g., `{'a': {'b': np.nan}}`, are read as follows: look in column `a` for the value `b` and replace it with `NaN`.\n",
    "\n",
    "<!--\n",
    "BEGIN QUESTION\n",
    "name: q1a\n",
    "points: 2\n",
    "-->"
   ]
  },
  {
   "cell_type": "code",
   "execution_count": 7,
   "metadata": {},
   "outputs": [
    {
     "data": {
      "text/html": [
       "<div>\n",
       "<style scoped>\n",
       "    .dataframe tbody tr th:only-of-type {\n",
       "        vertical-align: middle;\n",
       "    }\n",
       "\n",
       "    .dataframe tbody tr th {\n",
       "        vertical-align: top;\n",
       "    }\n",
       "\n",
       "    .dataframe thead th {\n",
       "        text-align: right;\n",
       "    }\n",
       "</style>\n",
       "<table border=\"1\" class=\"dataframe\">\n",
       "  <thead>\n",
       "    <tr style=\"text-align: right;\">\n",
       "      <th></th>\n",
       "      <th>instant</th>\n",
       "      <th>dteday</th>\n",
       "      <th>season</th>\n",
       "      <th>yr</th>\n",
       "      <th>mnth</th>\n",
       "      <th>hr</th>\n",
       "      <th>holiday</th>\n",
       "      <th>weekday</th>\n",
       "      <th>workingday</th>\n",
       "      <th>weathersit</th>\n",
       "      <th>temp</th>\n",
       "      <th>atemp</th>\n",
       "      <th>hum</th>\n",
       "      <th>windspeed</th>\n",
       "      <th>casual</th>\n",
       "      <th>registered</th>\n",
       "      <th>cnt</th>\n",
       "    </tr>\n",
       "  </thead>\n",
       "  <tbody>\n",
       "    <tr>\n",
       "      <th>0</th>\n",
       "      <td>1</td>\n",
       "      <td>2011-01-01</td>\n",
       "      <td>1</td>\n",
       "      <td>0</td>\n",
       "      <td>1</td>\n",
       "      <td>0</td>\n",
       "      <td>no</td>\n",
       "      <td>Sat</td>\n",
       "      <td>no</td>\n",
       "      <td>Clear</td>\n",
       "      <td>0.24</td>\n",
       "      <td>0.2879</td>\n",
       "      <td>0.81</td>\n",
       "      <td>0.0</td>\n",
       "      <td>3</td>\n",
       "      <td>13</td>\n",
       "      <td>16</td>\n",
       "    </tr>\n",
       "    <tr>\n",
       "      <th>1</th>\n",
       "      <td>2</td>\n",
       "      <td>2011-01-01</td>\n",
       "      <td>1</td>\n",
       "      <td>0</td>\n",
       "      <td>1</td>\n",
       "      <td>1</td>\n",
       "      <td>no</td>\n",
       "      <td>Sat</td>\n",
       "      <td>no</td>\n",
       "      <td>Clear</td>\n",
       "      <td>0.22</td>\n",
       "      <td>0.2727</td>\n",
       "      <td>0.80</td>\n",
       "      <td>0.0</td>\n",
       "      <td>8</td>\n",
       "      <td>32</td>\n",
       "      <td>40</td>\n",
       "    </tr>\n",
       "    <tr>\n",
       "      <th>2</th>\n",
       "      <td>3</td>\n",
       "      <td>2011-01-01</td>\n",
       "      <td>1</td>\n",
       "      <td>0</td>\n",
       "      <td>1</td>\n",
       "      <td>2</td>\n",
       "      <td>no</td>\n",
       "      <td>Sat</td>\n",
       "      <td>no</td>\n",
       "      <td>Clear</td>\n",
       "      <td>0.22</td>\n",
       "      <td>0.2727</td>\n",
       "      <td>0.80</td>\n",
       "      <td>0.0</td>\n",
       "      <td>5</td>\n",
       "      <td>27</td>\n",
       "      <td>32</td>\n",
       "    </tr>\n",
       "    <tr>\n",
       "      <th>3</th>\n",
       "      <td>4</td>\n",
       "      <td>2011-01-01</td>\n",
       "      <td>1</td>\n",
       "      <td>0</td>\n",
       "      <td>1</td>\n",
       "      <td>3</td>\n",
       "      <td>no</td>\n",
       "      <td>Sat</td>\n",
       "      <td>no</td>\n",
       "      <td>Clear</td>\n",
       "      <td>0.24</td>\n",
       "      <td>0.2879</td>\n",
       "      <td>0.75</td>\n",
       "      <td>0.0</td>\n",
       "      <td>3</td>\n",
       "      <td>10</td>\n",
       "      <td>13</td>\n",
       "    </tr>\n",
       "    <tr>\n",
       "      <th>4</th>\n",
       "      <td>5</td>\n",
       "      <td>2011-01-01</td>\n",
       "      <td>1</td>\n",
       "      <td>0</td>\n",
       "      <td>1</td>\n",
       "      <td>4</td>\n",
       "      <td>no</td>\n",
       "      <td>Sat</td>\n",
       "      <td>no</td>\n",
       "      <td>Clear</td>\n",
       "      <td>0.24</td>\n",
       "      <td>0.2879</td>\n",
       "      <td>0.75</td>\n",
       "      <td>0.0</td>\n",
       "      <td>0</td>\n",
       "      <td>1</td>\n",
       "      <td>1</td>\n",
       "    </tr>\n",
       "  </tbody>\n",
       "</table>\n",
       "</div>"
      ],
      "text/plain": [
       "   instant      dteday  season  yr  mnth  hr holiday weekday workingday  \\\n",
       "0        1  2011-01-01       1   0     1   0      no     Sat         no   \n",
       "1        2  2011-01-01       1   0     1   1      no     Sat         no   \n",
       "2        3  2011-01-01       1   0     1   2      no     Sat         no   \n",
       "3        4  2011-01-01       1   0     1   3      no     Sat         no   \n",
       "4        5  2011-01-01       1   0     1   4      no     Sat         no   \n",
       "\n",
       "  weathersit  temp   atemp   hum  windspeed  casual  registered  cnt  \n",
       "0      Clear  0.24  0.2879  0.81        0.0       3          13   16  \n",
       "1      Clear  0.22  0.2727  0.80        0.0       8          32   40  \n",
       "2      Clear  0.22  0.2727  0.80        0.0       5          27   32  \n",
       "3      Clear  0.24  0.2879  0.75        0.0       3          10   13  \n",
       "4      Clear  0.24  0.2879  0.75        0.0       0           1    1  "
      ]
     },
     "execution_count": 7,
     "metadata": {},
     "output_type": "execute_result"
    }
   ],
   "source": [
    "# BEGIN YOUR CODE\n",
    "# -----------------------\n",
    "\n",
    "bike = bike.replace({'holiday': {0: 'no', 1: 'yes'}})\n",
    "bike = bike.replace({'weekday': {0: 'Sun', 1: 'Mon',2:'Tue',3:'Wed',4:'Thu',5:'Fri',6:'Sat'}})\n",
    "bike = bike.replace({'workingday': {0: 'no', 1: 'yes'}})\n",
    "bike = bike.replace({'weathersit': {1: 'Clear', 2: 'Mist',3:'Light',4:'Heavy'}})\n",
    "\n",
    "\n",
    "\n",
    "\n",
    "\n",
    "\n",
    "\n",
    "\n",
    "# -----------------------\n",
    "# END YOUR CODE\n",
    "bike.head()"
   ]
  },
  {
   "cell_type": "code",
   "execution_count": 8,
   "metadata": {},
   "outputs": [
    {
     "name": "stdout",
     "output_type": "stream",
     "text": [
      "~~~~~~~~~~~~~~~~~~~~~~~~~~~~~~~~~~~~~~~~~~~~~~~~~~~~~~~~~~~~~~~~~~~~~\n",
      "Running tests\n",
      "\n",
      "---------------------------------------------------------------------\n",
      "Test summary\n",
      "    Passed: 10\n",
      "    Failed: 0\n",
      "[ooooooooook] 100.0% passed\n",
      "\n"
     ]
    }
   ],
   "source": [
    "ok.grade(\"q1a\");"
   ]
  },
  {
   "cell_type": "markdown",
   "metadata": {},
   "source": [
    "### Question 1b\n",
    "\n",
    "How many entries in the data correspond to holidays?  Set the variable `num_holidays` to this value.\n",
    "\n",
    "**Hint:** ``value_counts``\n",
    "\n",
    "<!--\n",
    "BEGIN QUESTION\n",
    "name: q1b\n",
    "points: 1\n",
    "-->"
   ]
  },
  {
   "cell_type": "code",
   "execution_count": 9,
   "metadata": {},
   "outputs": [
    {
     "name": "stdout",
     "output_type": "stream",
     "text": [
      "500\n"
     ]
    }
   ],
   "source": [
    "\n",
    "num_holidays = bike.holiday.value_counts().yes\n",
    "print(num_holidays)"
   ]
  },
  {
   "cell_type": "code",
   "execution_count": 10,
   "metadata": {},
   "outputs": [
    {
     "name": "stdout",
     "output_type": "stream",
     "text": [
      "~~~~~~~~~~~~~~~~~~~~~~~~~~~~~~~~~~~~~~~~~~~~~~~~~~~~~~~~~~~~~~~~~~~~~\n",
      "Running tests\n",
      "\n",
      "---------------------------------------------------------------------\n",
      "Test summary\n",
      "    Passed: 2\n",
      "    Failed: 0\n",
      "[ooooooooook] 100.0% passed\n",
      "\n"
     ]
    }
   ],
   "source": [
    "ok.grade(\"q1b\");"
   ]
  },
  {
   "cell_type": "markdown",
   "metadata": {},
   "source": [
    "### Question 1c (Computing Daily Total Counts)\n",
    "\n",
    "The granularity of this data is at the hourly level.  However, for some of the analysis we will also want to compute daily statistics.  In particular, in the next few questions we will be analyzing the daily number of registered and unregistered users.\n",
    "\n",
    "Construct a data frame named `daily_counts` indexed by `dteday` with the following columns:\n",
    "* `casual`: total number of casual riders for each day\n",
    "* `registered`: total number of registered riders for each day\n",
    "* `workingday`: whether that day is a working day or not (`yes` or `no`)\n",
    "\n",
    "**Hint**: `groupby` and `agg`. For the `agg` method, please check the [documentation](https://pandas.pydata.org/pandas-docs/stable/generated/pandas.core.groupby.DataFrameGroupBy.agg.html) for examples on applying different aggregations per column. If you use the capability to do different aggregations by column, you can do this task with a single call to `groupby` and `agg`. For the `workingday` column we can take any of the values since we are grouping by the day, thus the value will be the same within each group. Take a look at the `'first'` or `'last'` aggregation functions.\n",
    "\n",
    "<!--\n",
    "BEGIN QUESTION\n",
    "name: q1c\n",
    "points: 2\n",
    "-->"
   ]
  },
  {
   "cell_type": "code",
   "execution_count": 11,
   "metadata": {},
   "outputs": [
    {
     "data": {
      "text/html": [
       "<div>\n",
       "<style scoped>\n",
       "    .dataframe tbody tr th:only-of-type {\n",
       "        vertical-align: middle;\n",
       "    }\n",
       "\n",
       "    .dataframe tbody tr th {\n",
       "        vertical-align: top;\n",
       "    }\n",
       "\n",
       "    .dataframe thead th {\n",
       "        text-align: right;\n",
       "    }\n",
       "</style>\n",
       "<table border=\"1\" class=\"dataframe\">\n",
       "  <thead>\n",
       "    <tr style=\"text-align: right;\">\n",
       "      <th></th>\n",
       "      <th>casual</th>\n",
       "      <th>registered</th>\n",
       "      <th>workingday</th>\n",
       "    </tr>\n",
       "    <tr>\n",
       "      <th>dteday</th>\n",
       "      <th></th>\n",
       "      <th></th>\n",
       "      <th></th>\n",
       "    </tr>\n",
       "  </thead>\n",
       "  <tbody>\n",
       "    <tr>\n",
       "      <th>2011-01-01</th>\n",
       "      <td>331</td>\n",
       "      <td>654</td>\n",
       "      <td>no</td>\n",
       "    </tr>\n",
       "    <tr>\n",
       "      <th>2011-01-02</th>\n",
       "      <td>131</td>\n",
       "      <td>670</td>\n",
       "      <td>no</td>\n",
       "    </tr>\n",
       "    <tr>\n",
       "      <th>2011-01-03</th>\n",
       "      <td>120</td>\n",
       "      <td>1229</td>\n",
       "      <td>yes</td>\n",
       "    </tr>\n",
       "    <tr>\n",
       "      <th>2011-01-04</th>\n",
       "      <td>108</td>\n",
       "      <td>1454</td>\n",
       "      <td>yes</td>\n",
       "    </tr>\n",
       "    <tr>\n",
       "      <th>2011-01-05</th>\n",
       "      <td>82</td>\n",
       "      <td>1518</td>\n",
       "      <td>yes</td>\n",
       "    </tr>\n",
       "  </tbody>\n",
       "</table>\n",
       "</div>"
      ],
      "text/plain": [
       "            casual  registered workingday\n",
       "dteday                                   \n",
       "2011-01-01     331         654         no\n",
       "2011-01-02     131         670         no\n",
       "2011-01-03     120        1229        yes\n",
       "2011-01-04     108        1454        yes\n",
       "2011-01-05      82        1518        yes"
      ]
     },
     "execution_count": 11,
     "metadata": {},
     "output_type": "execute_result"
    }
   ],
   "source": [
    "# BEGIN YOUR CODE\n",
    "# -----------------------\n",
    "daily_counts = bike.groupby('dteday').agg({'casual': 'sum', 'registered': 'sum','workingday':'min'})\n",
    "# -----------------------\n",
    "# END YOUR CODE\n",
    "daily_counts.head()"
   ]
  },
  {
   "cell_type": "code",
   "execution_count": 12,
   "metadata": {},
   "outputs": [
    {
     "name": "stdout",
     "output_type": "stream",
     "text": [
      "~~~~~~~~~~~~~~~~~~~~~~~~~~~~~~~~~~~~~~~~~~~~~~~~~~~~~~~~~~~~~~~~~~~~~\n",
      "Running tests\n",
      "\n",
      "---------------------------------------------------------------------\n",
      "Test summary\n",
      "    Passed: 5\n",
      "    Failed: 0\n",
      "[ooooooooook] 100.0% passed\n",
      "\n"
     ]
    }
   ],
   "source": [
    "ok.grade(\"q1c\");"
   ]
  },
  {
   "cell_type": "markdown",
   "metadata": {
    "nbgrader": {
     "grade": false,
     "grade_id": "q3",
     "locked": true,
     "schema_version": 2,
     "solution": false
    }
   },
   "source": [
    "---\n",
    "# Part 2: Trump and Tweets\n",
    "\n",
    "In this part, we will work with Twitter data in order to analyze Donald Trump's tweets."
   ]
  },
  {
   "cell_type": "markdown",
   "metadata": {},
   "source": [
    "Let's load data into our notebook. Run the cell below to read tweets from the json file into a list named `all_tweets`."
   ]
  },
  {
   "cell_type": "code",
   "execution_count": 13,
   "metadata": {},
   "outputs": [],
   "source": [
    "with open(\"data/hw2-realdonaldtrump_tweets.json\", \"r\") as f:\n",
    "    all_tweets = json.load(f)"
   ]
  },
  {
   "cell_type": "markdown",
   "metadata": {
    "nbgrader": {
     "grade": false,
     "grade_id": "formatting-note",
     "locked": true,
     "schema_version": 2,
     "solution": false
    }
   },
   "source": [
    "Here is what a typical tweet from `all_tweets` looks like:"
   ]
  },
  {
   "cell_type": "code",
   "execution_count": 14,
   "metadata": {
    "nbgrader": {
     "grade": false,
     "grade_id": "pprint-old-tweets",
     "locked": true,
     "schema_version": 2,
     "solution": false
    },
    "scrolled": false
   },
   "outputs": [
    {
     "name": "stdout",
     "output_type": "stream",
     "text": [
      "{'contributors': None,\n",
      " 'coordinates': None,\n",
      " 'created_at': 'Tue Oct 16 18:40:18 +0000 2018',\n",
      " 'display_text_range': [0, 174],\n",
      " 'entities': {'hashtags': [], 'symbols': [], 'urls': [], 'user_mentions': []},\n",
      " 'favorite_count': 52115,\n",
      " 'favorited': False,\n",
      " 'full_text': 'Just spoke with the Crown Prince of Saudi Arabia who totally '\n",
      "              'denied any knowledge of what took place in their Turkish '\n",
      "              'Consulate. He was with Secretary of State Mike Pompeo...',\n",
      " 'geo': None,\n",
      " 'id': 1052268011900555265,\n",
      " 'id_str': '1052268011900555265',\n",
      " 'in_reply_to_screen_name': None,\n",
      " 'in_reply_to_status_id': None,\n",
      " 'in_reply_to_status_id_str': None,\n",
      " 'in_reply_to_user_id': None,\n",
      " 'in_reply_to_user_id_str': None,\n",
      " 'is_quote_status': False,\n",
      " 'lang': 'en',\n",
      " 'place': None,\n",
      " 'retweet_count': 13493,\n",
      " 'retweeted': False,\n",
      " 'source': '<a href=\"http://twitter.com/download/iphone\" '\n",
      "           'rel=\"nofollow\">Twitter for iPhone</a>',\n",
      " 'truncated': False,\n",
      " 'user': {'contributors_enabled': False,\n",
      "          'created_at': 'Wed Mar 18 13:46:38 +0000 2009',\n",
      "          'default_profile': False,\n",
      "          'default_profile_image': False,\n",
      "          'description': '45th President of the United States of America🇺🇸',\n",
      "          'entities': {'description': {'urls': []},\n",
      "                       'url': {'urls': [{'display_url': 'Instagram.com/realDonaldTrump',\n",
      "                                         'expanded_url': 'http://www.Instagram.com/realDonaldTrump',\n",
      "                                         'indices': [0, 23],\n",
      "                                         'url': 'https://t.co/OMxB0x7xC5'}]}},\n",
      "          'favourites_count': 7,\n",
      "          'follow_request_sent': False,\n",
      "          'followers_count': 58311576,\n",
      "          'following': True,\n",
      "          'friends_count': 45,\n",
      "          'geo_enabled': True,\n",
      "          'has_extended_profile': False,\n",
      "          'id': 25073877,\n",
      "          'id_str': '25073877',\n",
      "          'is_translation_enabled': True,\n",
      "          'is_translator': False,\n",
      "          'lang': 'en',\n",
      "          'listed_count': 100264,\n",
      "          'location': 'Washington, DC',\n",
      "          'name': 'Donald J. Trump',\n",
      "          'notifications': False,\n",
      "          'profile_background_color': '6D5C18',\n",
      "          'profile_background_image_url': 'http://abs.twimg.com/images/themes/theme1/bg.png',\n",
      "          'profile_background_image_url_https': 'https://abs.twimg.com/images/themes/theme1/bg.png',\n",
      "          'profile_background_tile': True,\n",
      "          'profile_banner_url': 'https://pbs.twimg.com/profile_banners/25073877/1550087458',\n",
      "          'profile_image_url': 'http://pbs.twimg.com/profile_images/874276197357596672/kUuht00m_normal.jpg',\n",
      "          'profile_image_url_https': 'https://pbs.twimg.com/profile_images/874276197357596672/kUuht00m_normal.jpg',\n",
      "          'profile_link_color': '1B95E0',\n",
      "          'profile_sidebar_border_color': 'BDDCAD',\n",
      "          'profile_sidebar_fill_color': 'C5CEC0',\n",
      "          'profile_text_color': '333333',\n",
      "          'profile_use_background_image': True,\n",
      "          'protected': False,\n",
      "          'screen_name': 'realDonaldTrump',\n",
      "          'statuses_count': 40563,\n",
      "          'time_zone': None,\n",
      "          'translator_type': 'regular',\n",
      "          'url': 'https://t.co/OMxB0x7xC5',\n",
      "          'utc_offset': None,\n",
      "          'verified': True}}\n"
     ]
    }
   ],
   "source": [
    "pprint(all_tweets[-1])"
   ]
  },
  {
   "cell_type": "markdown",
   "metadata": {
    "nbgrader": {
     "grade": false,
     "grade_id": "q3b",
     "locked": true,
     "schema_version": 2,
     "solution": false
    }
   },
   "source": [
    "<br/><br/><br/>\n",
    "<hr style=\"border: 5px solid #990000;\" />\n",
    "<hr style=\"border: 1px solid #dbbcac;\" />\n",
    "\n",
    "## Question 2\n",
    "\n",
    "Construct a DataFrame called `trump` containing data from all the tweets stored in `all_tweets`. The index of the DataFrame should be the `ID` of each tweet (looks something like `907698529606541312`). It should have these columns:\n",
    "\n",
    "- `time`: The time the tweet was created encoded as a datetime object. (Use `pd.to_datetime` to encode the timestamp.)\n",
    "- `source`: The source device of the tweet.\n",
    "- `text`: The text of the tweet.\n",
    "- `retweet_count`: The retweet count of the tweet. \n",
    "\n",
    "Finally, **the resulting DataFrame should be sorted by the index as below.**\n",
    "\n",
    "<img src=\"images/table_1a.png\" width=\"900px\" />\n",
    "\n",
    "**Warning:** *Some tweets will store the text in the `text` field and other will use the `full_text` field.*\n",
    "\n",
    "<!--\n",
    "BEGIN QUESTION\n",
    "name: q1\n",
    "points: 2\n",
    "-->"
   ]
  },
  {
   "cell_type": "code",
   "execution_count": 15,
   "metadata": {
    "nbgrader": {
     "grade": false,
     "grade_id": "q3b-answer",
     "locked": false,
     "schema_version": 2,
     "solution": true
    },
    "scrolled": true,
    "tags": [
     "student"
    ]
   },
   "outputs": [
    {
     "data": {
      "text/html": [
       "<div>\n",
       "<style scoped>\n",
       "    .dataframe tbody tr th:only-of-type {\n",
       "        vertical-align: middle;\n",
       "    }\n",
       "\n",
       "    .dataframe tbody tr th {\n",
       "        vertical-align: top;\n",
       "    }\n",
       "\n",
       "    .dataframe thead th {\n",
       "        text-align: right;\n",
       "    }\n",
       "</style>\n",
       "<table border=\"1\" class=\"dataframe\">\n",
       "  <thead>\n",
       "    <tr style=\"text-align: right;\">\n",
       "      <th></th>\n",
       "      <th>time</th>\n",
       "      <th>source</th>\n",
       "      <th>text</th>\n",
       "      <th>retweet_count</th>\n",
       "    </tr>\n",
       "    <tr>\n",
       "      <th>id</th>\n",
       "      <th></th>\n",
       "      <th></th>\n",
       "      <th></th>\n",
       "      <th></th>\n",
       "    </tr>\n",
       "  </thead>\n",
       "  <tbody>\n",
       "    <tr>\n",
       "      <th>786204978629185536</th>\n",
       "      <td>2016-10-12 14:00:48</td>\n",
       "      <td>&lt;a href=\"http://twitter.com/download/iphone\" rel=\"nofollow\"&gt;Twitter for iPhone&lt;/a&gt;</td>\n",
       "      <td>PAY TO PLAY POLITICS. \\n#CrookedHillary https://t.co/wjsl8ITVvk</td>\n",
       "      <td>24915</td>\n",
       "    </tr>\n",
       "    <tr>\n",
       "      <th>786201435486781440</th>\n",
       "      <td>2016-10-12 13:46:43</td>\n",
       "      <td>&lt;a href=\"http://twitter.com/download/iphone\" rel=\"nofollow\"&gt;Twitter for iPhone&lt;/a&gt;</td>\n",
       "      <td>Very little pick-up by the dishonest media of incredible information provided by WikiLeaks. So dishonest! Rigged system!</td>\n",
       "      <td>22609</td>\n",
       "    </tr>\n",
       "    <tr>\n",
       "      <th>786189446274248704</th>\n",
       "      <td>2016-10-12 12:59:05</td>\n",
       "      <td>&lt;a href=\"http://twitter.com/download/android\" rel=\"nofollow\"&gt;Twitter for Android&lt;/a&gt;</td>\n",
       "      <td>Crooked Hillary Clinton likes to talk about the things she will do but she has been there for 30 years - why didn't she do them?</td>\n",
       "      <td>18329</td>\n",
       "    </tr>\n",
       "    <tr>\n",
       "      <th>786054986534969344</th>\n",
       "      <td>2016-10-12 04:04:47</td>\n",
       "      <td>&lt;a href=\"http://twitter.com/download/iphone\" rel=\"nofollow\"&gt;Twitter for iPhone&lt;/a&gt;</td>\n",
       "      <td>Thank you Florida- a MOVEMENT that has never been seen before and will never be seen again. Lets get out &amp;amp;… https://t.co/t9XM9wFDZI</td>\n",
       "      <td>18789</td>\n",
       "    </tr>\n",
       "    <tr>\n",
       "      <th>786007502639038464</th>\n",
       "      <td>2016-10-12 00:56:06</td>\n",
       "      <td>&lt;a href=\"http://twitter.com/download/iphone\" rel=\"nofollow\"&gt;Twitter for iPhone&lt;/a&gt;</td>\n",
       "      <td>Join me Thursday in Florida &amp;amp; Ohio!\\nWest Palm Beach, FL at noon:\\nhttps://t.co/jwbZnQhxg9\\nCincinnati, OH this 7:30pm:\\nhttps://t.co/5w2UhalPIx</td>\n",
       "      <td>7761</td>\n",
       "    </tr>\n",
       "  </tbody>\n",
       "</table>\n",
       "</div>"
      ],
      "text/plain": [
       "                                  time  \\\n",
       "id                                       \n",
       "786204978629185536 2016-10-12 14:00:48   \n",
       "786201435486781440 2016-10-12 13:46:43   \n",
       "786189446274248704 2016-10-12 12:59:05   \n",
       "786054986534969344 2016-10-12 04:04:47   \n",
       "786007502639038464 2016-10-12 00:56:06   \n",
       "\n",
       "                                                                                                  source  \\\n",
       "id                                                                                                         \n",
       "786204978629185536    <a href=\"http://twitter.com/download/iphone\" rel=\"nofollow\">Twitter for iPhone</a>   \n",
       "786201435486781440    <a href=\"http://twitter.com/download/iphone\" rel=\"nofollow\">Twitter for iPhone</a>   \n",
       "786189446274248704  <a href=\"http://twitter.com/download/android\" rel=\"nofollow\">Twitter for Android</a>   \n",
       "786054986534969344    <a href=\"http://twitter.com/download/iphone\" rel=\"nofollow\">Twitter for iPhone</a>   \n",
       "786007502639038464    <a href=\"http://twitter.com/download/iphone\" rel=\"nofollow\">Twitter for iPhone</a>   \n",
       "\n",
       "                                                                                                                                                                    text  \\\n",
       "id                                                                                                                                                                         \n",
       "786204978629185536                                                                                       PAY TO PLAY POLITICS. \\n#CrookedHillary https://t.co/wjsl8ITVvk   \n",
       "786201435486781440                              Very little pick-up by the dishonest media of incredible information provided by WikiLeaks. So dishonest! Rigged system!   \n",
       "786189446274248704                      Crooked Hillary Clinton likes to talk about the things she will do but she has been there for 30 years - why didn't she do them?   \n",
       "786054986534969344               Thank you Florida- a MOVEMENT that has never been seen before and will never be seen again. Lets get out &amp;… https://t.co/t9XM9wFDZI   \n",
       "786007502639038464  Join me Thursday in Florida &amp; Ohio!\\nWest Palm Beach, FL at noon:\\nhttps://t.co/jwbZnQhxg9\\nCincinnati, OH this 7:30pm:\\nhttps://t.co/5w2UhalPIx   \n",
       "\n",
       "                    retweet_count  \n",
       "id                                 \n",
       "786204978629185536          24915  \n",
       "786201435486781440          22609  \n",
       "786189446274248704          18329  \n",
       "786054986534969344          18789  \n",
       "786007502639038464           7761  "
      ]
     },
     "execution_count": 15,
     "metadata": {},
     "output_type": "execute_result"
    }
   ],
   "source": [
    "# BEGIN YOUR CODE\n",
    "# -----------------------\n",
    "trump = pd.DataFrame.from_dict(all_tweets[0:])\n",
    "trump = trump.set_index('id')\n",
    "trump = trump.filter(items=['id','created_at','source','text','retweet_count'])\n",
    "trump.rename(columns = {'created_at': 'time'},inplace = True)\n",
    "trump['time']=pd.to_datetime(trump['time']).dt.tz_localize(None)\n",
    "# -----------------------\n",
    "# END YOUR CODE\n",
    "trump.head()"
   ]
  },
  {
   "cell_type": "code",
   "execution_count": 16,
   "metadata": {},
   "outputs": [
    {
     "name": "stdout",
     "output_type": "stream",
     "text": [
      "~~~~~~~~~~~~~~~~~~~~~~~~~~~~~~~~~~~~~~~~~~~~~~~~~~~~~~~~~~~~~~~~~~~~~\n",
      "Running tests\n",
      "\n",
      "---------------------------------------------------------------------\n",
      "Test summary\n",
      "    Passed: 11\n",
      "    Failed: 0\n",
      "[ooooooooook] 100.0% passed\n",
      "\n"
     ]
    }
   ],
   "source": [
    "ok.grade(\"q2\");"
   ]
  },
  {
   "cell_type": "markdown",
   "metadata": {
    "nbgrader": {
     "grade": false,
     "grade_id": "question4",
     "locked": true,
     "schema_version": 2,
     "solution": false
    }
   },
   "source": [
    "---\n",
    "In the following questions, we are going to find out the charateristics of Trump tweets and the devices used for the tweets.\n",
    "\n",
    "First let's examine the source field:"
   ]
  },
  {
   "cell_type": "code",
   "execution_count": 17,
   "metadata": {
    "nbgrader": {
     "grade": false,
     "grade_id": "unique-sources",
     "locked": true,
     "schema_version": 2,
     "solution": false
    }
   },
   "outputs": [
    {
     "data": {
      "text/plain": [
       "array(['<a href=\"http://twitter.com/download/iphone\" rel=\"nofollow\">Twitter for iPhone</a>',\n",
       "       '<a href=\"http://twitter.com/download/android\" rel=\"nofollow\">Twitter for Android</a>',\n",
       "       '<a href=\"http://twitter.com\" rel=\"nofollow\">Twitter Web Client</a>',\n",
       "       '<a href=\"https://studio.twitter.com\" rel=\"nofollow\">Media Studio</a>',\n",
       "       '<a href=\"http://twitter.com/#!/download/ipad\" rel=\"nofollow\">Twitter for iPad</a>',\n",
       "       '<a href=\"http://instagram.com\" rel=\"nofollow\">Instagram</a>',\n",
       "       '<a href=\"https://mobile.twitter.com\" rel=\"nofollow\">Mobile Web (M5)</a>',\n",
       "       '<a href=\"https://ads.twitter.com\" rel=\"nofollow\">Twitter Ads</a>',\n",
       "       '<a href=\"https://periscope.tv\" rel=\"nofollow\">Periscope</a>',\n",
       "       '<a href=\"https://studio.twitter.com\" rel=\"nofollow\">Twitter Media Studio</a>'],\n",
       "      dtype=object)"
      ]
     },
     "execution_count": 17,
     "metadata": {},
     "output_type": "execute_result"
    }
   ],
   "source": [
    "trump['source'].unique()"
   ]
  },
  {
   "cell_type": "markdown",
   "metadata": {
    "nbgrader": {
     "grade": false,
     "grade_id": "q4a",
     "locked": true,
     "schema_version": 2,
     "solution": false
    }
   },
   "source": [
    "## Question 3\n",
    "\n",
    "Notice how sources like \"Twitter for Android\" or \"Instagram\" are surrounded by HTML tags. In the cell below, clean up the `source` field by removing the HTML tags from each `source` entry.\n",
    "\n",
    "**Hints:** \n",
    "* Use `trump['source'].str.replace` along with a regular expression.\n",
    "* You may find it helpful to experiment with regular expressions at [regex101.com](https://regex101.com/).\n",
    "\n",
    "<!--\n",
    "BEGIN QUESTION\n",
    "name: q2\n",
    "points: 1\n",
    "-->"
   ]
  },
  {
   "cell_type": "code",
   "execution_count": 18,
   "metadata": {
    "nbgrader": {
     "grade": false,
     "grade_id": "q4a-answer",
     "locked": false,
     "schema_version": 2,
     "solution": true
    }
   },
   "outputs": [
    {
     "data": {
      "text/plain": [
       "id\n",
       "786204978629185536     Twitter for iPhone\n",
       "786201435486781440     Twitter for iPhone\n",
       "786189446274248704    Twitter for Android\n",
       "786054986534969344     Twitter for iPhone\n",
       "786007502639038464     Twitter for iPhone\n",
       "Name: source, dtype: object"
      ]
     },
     "execution_count": 18,
     "metadata": {},
     "output_type": "execute_result"
    }
   ],
   "source": [
    "# BEGIN YOUR CODE\n",
    "# -----------------------\n",
    "trump['source'] = trump['source'].str.replace(r\"\\<.*?.>\",'')\n",
    "trump['source'].head()\n",
    "# -----------------------\n",
    "# END YOUR CODE"
   ]
  },
  {
   "cell_type": "code",
   "execution_count": 19,
   "metadata": {},
   "outputs": [
    {
     "name": "stdout",
     "output_type": "stream",
     "text": [
      "~~~~~~~~~~~~~~~~~~~~~~~~~~~~~~~~~~~~~~~~~~~~~~~~~~~~~~~~~~~~~~~~~~~~~\n",
      "Running tests\n",
      "\n",
      "---------------------------------------------------------------------\n",
      "Test summary\n",
      "    Passed: 1\n",
      "    Failed: 0\n",
      "[ooooooooook] 100.0% passed\n",
      "\n"
     ]
    }
   ],
   "source": [
    "ok.grade(\"q3\");"
   ]
  },
  {
   "cell_type": "markdown",
   "metadata": {
    "nbgrader": {
     "grade": false,
     "grade_id": "note-about-device-usage",
     "locked": true,
     "schema_version": 2,
     "solution": false
    }
   },
   "source": [
    "In the following plot, we see that there are two device types that are more commonly used than others."
   ]
  },
  {
   "cell_type": "code",
   "execution_count": 20,
   "metadata": {
    "nbgrader": {
     "grade": false,
     "grade_id": "device-usage-plot",
     "locked": true,
     "schema_version": 2,
     "solution": false
    }
   },
   "outputs": [
    {
     "data": {
      "image/png": "[encoded data removed]",
      "text/plain": [
       "<Figure size 432x288 with 1 Axes>"
      ]
     },
     "metadata": {},
     "output_type": "display_data"
    }
   ],
   "source": [
    "plt.figure(figsize=(6, 4))\n",
    "trump['source'].value_counts().plot(kind=\"bar\")\n",
    "plt.ylabel(\"Number of Tweets\")\n",
    "plt.title(\"Number of Tweets by Source\");"
   ]
  },
  {
   "cell_type": "markdown",
   "metadata": {
    "nbgrader": {
     "grade": false,
     "grade_id": "q5",
     "locked": true,
     "schema_version": 2,
     "solution": false
    }
   },
   "source": [
    "<br/><br/><br/>\n",
    "<hr style=\"border: 5px solid #990000;\" />\n",
    "<hr style=\"border: 1px solid #dbbcac;\" />\n",
    "\n",
    "## Question 4\n",
    "\n",
    "Now that we have cleaned up the `source` field, let's now look at which device Trump has used over the entire time period of this dataset.\n",
    "\n",
    "To examine the distribution of dates we will convert the date to a fractional year that can be plotted as a distribution.\n",
    "\n",
    "(Code borrowed from https://stackoverflow.com/questions/6451655/python-how-to-convert-datetime-dates-to-decimal-years)"
   ]
  },
  {
   "cell_type": "code",
   "execution_count": 21,
   "metadata": {
    "nbgrader": {
     "grade": false,
     "grade_id": "fractional-year",
     "locked": true,
     "schema_version": 2,
     "solution": false
    }
   },
   "outputs": [],
   "source": [
    "import datetime\n",
    "def year_fraction(date):\n",
    "    start = datetime.date(date.year, 1, 1).toordinal()\n",
    "    year_length = datetime.date(date.year+1, 1, 1).toordinal() - start\n",
    "    return date.year + float(date.toordinal() - start) / year_length\n",
    "\n",
    "trump['year'] = trump['time'].apply(year_fraction)"
   ]
  },
  {
   "cell_type": "markdown",
   "metadata": {
    "nbgrader": {
     "grade": false,
     "grade_id": "q5a",
     "locked": true,
     "schema_version": 2,
     "solution": false
    }
   },
   "source": [
    "Now, use `sns.distplot` to overlay the distributions of Trump's 2 most frequently used web technologies over the years. Your final plot should look like:\n",
    "\n",
    "<img src=\"images/source_years_q3.png\" width=\"600px\" />\n",
    "\n",
    "<!--\n",
    "BEGIN QUESTION\n",
    "name: q3\n",
    "points: 2\n",
    "manual: true\n",
    "-->\n",
    "<!-- EXPORT TO PDF -->"
   ]
  },
  {
   "cell_type": "code",
   "execution_count": 22,
   "metadata": {
    "nbgrader": {
     "grade": true,
     "grade_id": "q5a-answer",
     "locked": false,
     "points": 2,
     "schema_version": 2,
     "solution": true
    },
    "scrolled": false
   },
   "outputs": [
    {
     "name": "stderr",
     "output_type": "stream",
     "text": [
      "c:\\users\\acer\\miniconda3\\lib\\site-packages\\seaborn\\distributions.py:2557: FutureWarning: `distplot` is a deprecated function and will be removed in a future version. Please adapt your code to use either `displot` (a figure-level function with similar flexibility) or `histplot` (an axes-level function for histograms).\n",
      "  warnings.warn(msg, FutureWarning)\n",
      "c:\\users\\acer\\miniconda3\\lib\\site-packages\\seaborn\\distributions.py:2557: FutureWarning: `distplot` is a deprecated function and will be removed in a future version. Please adapt your code to use either `displot` (a figure-level function with similar flexibility) or `histplot` (an axes-level function for histograms).\n",
      "  warnings.warn(msg, FutureWarning)\n"
     ]
    },
    {
     "data": {
      "text/plain": [
       "<matplotlib.legend.Legend at 0x1d6cb2d93c8>"
      ]
     },
     "execution_count": 22,
     "metadata": {},
     "output_type": "execute_result"
    },
    {
     "data": {
      "image/png": "[encoded data removed]",
      "text/plain": [
       "<Figure size 432x288 with 1 Axes>"
      ]
     },
     "metadata": {},
     "output_type": "display_data"
    }
   ],
   "source": [
    "# BEGIN YOUR CODE\n",
    "# -----------------------\n",
    "iphone=trump[trump[\"source\"]==\"Twitter for iPhone\"]\n",
    "android=trump[trump[\"source\"]==\"Twitter for Android\"]\n",
    "\n",
    "sns.distplot(iphone[\"year\"])\n",
    "sns.distplot(android[\"year\"])\n",
    "\n",
    "plt.xlabel(\"year\")\n",
    "plt.title(\"Distribution of Tweet Sources Over Years\")\n",
    "plt.legend(['iPhone','Android'])\n",
    "# -----------------------\n",
    "# END YOUR CODE"
   ]
  },
  {
   "cell_type": "markdown",
   "metadata": {
    "nbgrader": {
     "grade": false,
     "grade_id": "q4b",
     "locked": true,
     "schema_version": 2,
     "solution": false
    }
   },
   "source": [
    "<br/><br/><br/>\n",
    "<hr style=\"border: 5px solid #990000;\" />\n",
    "<hr style=\"border: 1px solid #dbbcac;\" />\n",
    "\n",
    "## Question 5\n",
    "\n",
    "\n",
    "Is there a difference between Trump's tweet behavior across these devices? We will attempt to answer this question in our subsequent analysis.\n",
    "\n",
    "First, we'll take a look at whether Trump's tweets from an Android device come at different times than his tweets from an iPhone. Note that Twitter gives us his tweets in the [UTC timezone](https://www.wikiwand.com/en/List_of_UTC_time_offsets) (notice the `+0000` in the first few tweets)."
   ]
  },
  {
   "cell_type": "code",
   "execution_count": 23,
   "metadata": {
    "nbgrader": {
     "grade": false,
     "grade_id": "tweet-created-at",
     "locked": true,
     "schema_version": 2,
     "solution": false
    }
   },
   "outputs": [
    {
     "name": "stdout",
     "output_type": "stream",
     "text": [
      "Wed Oct 12 14:00:48 +0000 2016\n",
      "Wed Oct 12 13:46:43 +0000 2016\n",
      "Wed Oct 12 12:59:05 +0000 2016\n"
     ]
    }
   ],
   "source": [
    "for tweet in all_tweets[:3]:\n",
    "    print(tweet['created_at'])"
   ]
  },
  {
   "cell_type": "markdown",
   "metadata": {
    "nbgrader": {
     "grade": false,
     "grade_id": "convert-to-est-justification",
     "locked": true,
     "schema_version": 2,
     "solution": false
    }
   },
   "source": [
    "We'll convert the tweet times to US Eastern Time, the timezone of New York and Washington D.C., since those are the places we would expect the most tweet activity from Trump."
   ]
  },
  {
   "cell_type": "code",
   "execution_count": 24,
   "metadata": {
    "nbgrader": {
     "grade": false,
     "grade_id": "convert-to-est",
     "locked": true,
     "schema_version": 2,
     "solution": false
    }
   },
   "outputs": [
    {
     "data": {
      "text/html": [
       "<div>\n",
       "<style scoped>\n",
       "    .dataframe tbody tr th:only-of-type {\n",
       "        vertical-align: middle;\n",
       "    }\n",
       "\n",
       "    .dataframe tbody tr th {\n",
       "        vertical-align: top;\n",
       "    }\n",
       "\n",
       "    .dataframe thead th {\n",
       "        text-align: right;\n",
       "    }\n",
       "</style>\n",
       "<table border=\"1\" class=\"dataframe\">\n",
       "  <thead>\n",
       "    <tr style=\"text-align: right;\">\n",
       "      <th></th>\n",
       "      <th>time</th>\n",
       "      <th>source</th>\n",
       "      <th>text</th>\n",
       "      <th>retweet_count</th>\n",
       "      <th>year</th>\n",
       "      <th>est_time</th>\n",
       "    </tr>\n",
       "    <tr>\n",
       "      <th>id</th>\n",
       "      <th></th>\n",
       "      <th></th>\n",
       "      <th></th>\n",
       "      <th></th>\n",
       "      <th></th>\n",
       "      <th></th>\n",
       "    </tr>\n",
       "  </thead>\n",
       "  <tbody>\n",
       "    <tr>\n",
       "      <th>786204978629185536</th>\n",
       "      <td>2016-10-12 14:00:48</td>\n",
       "      <td>Twitter for iPhone</td>\n",
       "      <td>PAY TO PLAY POLITICS. \\n#CrookedHillary https://t.co/wjsl8ITVvk</td>\n",
       "      <td>24915</td>\n",
       "      <td>2016.778689</td>\n",
       "      <td>2016-10-12 09:00:48-05:00</td>\n",
       "    </tr>\n",
       "    <tr>\n",
       "      <th>786201435486781440</th>\n",
       "      <td>2016-10-12 13:46:43</td>\n",
       "      <td>Twitter for iPhone</td>\n",
       "      <td>Very little pick-up by the dishonest media of incredible information provided by WikiLeaks. So dishonest! Rigged system!</td>\n",
       "      <td>22609</td>\n",
       "      <td>2016.778689</td>\n",
       "      <td>2016-10-12 08:46:43-05:00</td>\n",
       "    </tr>\n",
       "    <tr>\n",
       "      <th>786189446274248704</th>\n",
       "      <td>2016-10-12 12:59:05</td>\n",
       "      <td>Twitter for Android</td>\n",
       "      <td>Crooked Hillary Clinton likes to talk about the things she will do but she has been there for 30 years - why didn't she do them?</td>\n",
       "      <td>18329</td>\n",
       "      <td>2016.778689</td>\n",
       "      <td>2016-10-12 07:59:05-05:00</td>\n",
       "    </tr>\n",
       "    <tr>\n",
       "      <th>786054986534969344</th>\n",
       "      <td>2016-10-12 04:04:47</td>\n",
       "      <td>Twitter for iPhone</td>\n",
       "      <td>Thank you Florida- a MOVEMENT that has never been seen before and will never be seen again. Lets get out &amp;amp;… https://t.co/t9XM9wFDZI</td>\n",
       "      <td>18789</td>\n",
       "      <td>2016.778689</td>\n",
       "      <td>2016-10-11 23:04:47-05:00</td>\n",
       "    </tr>\n",
       "    <tr>\n",
       "      <th>786007502639038464</th>\n",
       "      <td>2016-10-12 00:56:06</td>\n",
       "      <td>Twitter for iPhone</td>\n",
       "      <td>Join me Thursday in Florida &amp;amp; Ohio!\\nWest Palm Beach, FL at noon:\\nhttps://t.co/jwbZnQhxg9\\nCincinnati, OH this 7:30pm:\\nhttps://t.co/5w2UhalPIx</td>\n",
       "      <td>7761</td>\n",
       "      <td>2016.778689</td>\n",
       "      <td>2016-10-11 19:56:06-05:00</td>\n",
       "    </tr>\n",
       "  </tbody>\n",
       "</table>\n",
       "</div>"
      ],
      "text/plain": [
       "                                  time               source  \\\n",
       "id                                                            \n",
       "786204978629185536 2016-10-12 14:00:48   Twitter for iPhone   \n",
       "786201435486781440 2016-10-12 13:46:43   Twitter for iPhone   \n",
       "786189446274248704 2016-10-12 12:59:05  Twitter for Android   \n",
       "786054986534969344 2016-10-12 04:04:47   Twitter for iPhone   \n",
       "786007502639038464 2016-10-12 00:56:06   Twitter for iPhone   \n",
       "\n",
       "                                                                                                                                                                    text  \\\n",
       "id                                                                                                                                                                         \n",
       "786204978629185536                                                                                       PAY TO PLAY POLITICS. \\n#CrookedHillary https://t.co/wjsl8ITVvk   \n",
       "786201435486781440                              Very little pick-up by the dishonest media of incredible information provided by WikiLeaks. So dishonest! Rigged system!   \n",
       "786189446274248704                      Crooked Hillary Clinton likes to talk about the things she will do but she has been there for 30 years - why didn't she do them?   \n",
       "786054986534969344               Thank you Florida- a MOVEMENT that has never been seen before and will never be seen again. Lets get out &amp;… https://t.co/t9XM9wFDZI   \n",
       "786007502639038464  Join me Thursday in Florida &amp; Ohio!\\nWest Palm Beach, FL at noon:\\nhttps://t.co/jwbZnQhxg9\\nCincinnati, OH this 7:30pm:\\nhttps://t.co/5w2UhalPIx   \n",
       "\n",
       "                    retweet_count         year                  est_time  \n",
       "id                                                                        \n",
       "786204978629185536          24915  2016.778689 2016-10-12 09:00:48-05:00  \n",
       "786201435486781440          22609  2016.778689 2016-10-12 08:46:43-05:00  \n",
       "786189446274248704          18329  2016.778689 2016-10-12 07:59:05-05:00  \n",
       "786054986534969344          18789  2016.778689 2016-10-11 23:04:47-05:00  \n",
       "786007502639038464           7761  2016.778689 2016-10-11 19:56:06-05:00  "
      ]
     },
     "execution_count": 24,
     "metadata": {},
     "output_type": "execute_result"
    }
   ],
   "source": [
    "trump['est_time'] = (\n",
    "    trump['time'].dt.tz_localize(\"UTC\")  # Set initial timezone to UTC\n",
    "                 .dt.tz_convert(\"EST\")  # Convert to Eastern Time\n",
    ")\n",
    "trump.head()"
   ]
  },
  {
   "cell_type": "markdown",
   "metadata": {
    "nbgrader": {
     "grade": false,
     "grade_id": "need-to-do",
     "locked": true,
     "schema_version": 2,
     "solution": false
    }
   },
   "source": [
    "### Question 5a\n",
    "\n",
    "Add a column called `hour` to the `trump` table which contains the hour of the day as floating point number computed by:\n",
    "\n",
    "$$\n",
    "\\text{hour} + \\frac{\\text{minute}}{60} + \\frac{\\text{second}}{60^2}\n",
    "$$\n",
    "\n",
    "* **Hint:** See the cell above for an example of working with [dt accessors](https://pandas.pydata.org/pandas-docs/stable/getting_started/basics.html#basics-dt-accessors).\n",
    "\n",
    "<!--\n",
    "BEGIN QUESTION\n",
    "name: q4a\n",
    "points: 1\n",
    "-->"
   ]
  },
  {
   "cell_type": "code",
   "execution_count": 25,
   "metadata": {
    "nbgrader": {
     "grade": false,
     "grade_id": "q4b-answer",
     "locked": false,
     "schema_version": 2,
     "solution": true
    },
    "tags": [
     "student"
    ]
   },
   "outputs": [],
   "source": [
    "# BEGIN YOUR CODE\n",
    "# -----------------------\n",
    "trump['hour'] = trump['est_time'].dt.hour + (trump['est_time'].dt.minute/60)+(trump['est_time'].dt.second/60**2)\n",
    "# -----------------------\n",
    "# END YOUR CODE"
   ]
  },
  {
   "cell_type": "code",
   "execution_count": 26,
   "metadata": {},
   "outputs": [
    {
     "name": "stdout",
     "output_type": "stream",
     "text": [
      "~~~~~~~~~~~~~~~~~~~~~~~~~~~~~~~~~~~~~~~~~~~~~~~~~~~~~~~~~~~~~~~~~~~~~\n",
      "Running tests\n",
      "\n",
      "---------------------------------------------------------------------\n",
      "Test summary\n",
      "    Passed: 1\n",
      "    Failed: 0\n",
      "[ooooooooook] 100.0% passed\n",
      "\n"
     ]
    }
   ],
   "source": [
    "ok.grade(\"q5a\");"
   ]
  },
  {
   "cell_type": "markdown",
   "metadata": {
    "nbgrader": {
     "grade": false,
     "grade_id": "q4c",
     "locked": true,
     "schema_version": 2,
     "solution": false
    }
   },
   "source": [
    "### Question 5b\n",
    "\n",
    "Use this data along with the seaborn `distplot` function to examine the distribution over hours of the day in eastern time that trump tweets on each device for the 2 most commonly used devices.  Your plot should look similar to the following:\n",
    "\n",
    "<img src=\"images/device_hour4b.png\" width=\"600px\" />\n",
    "\n",
    "<!--\n",
    "BEGIN QUESTION\n",
    "name: q4b\n",
    "points: 2\n",
    "manual: true\n",
    "-->\n",
    "<!-- EXPORT TO PDF -->"
   ]
  },
  {
   "cell_type": "code",
   "execution_count": 27,
   "metadata": {
    "nbgrader": {
     "grade": true,
     "grade_id": "q4c-answer",
     "locked": false,
     "points": 2,
     "schema_version": 2,
     "solution": true
    }
   },
   "outputs": [
    {
     "name": "stderr",
     "output_type": "stream",
     "text": [
      "c:\\users\\acer\\miniconda3\\lib\\site-packages\\seaborn\\distributions.py:2557: FutureWarning: `distplot` is a deprecated function and will be removed in a future version. Please adapt your code to use either `displot` (a figure-level function with similar flexibility) or `kdeplot` (an axes-level function for kernel density plots).\n",
      "  warnings.warn(msg, FutureWarning)\n",
      "c:\\users\\acer\\miniconda3\\lib\\site-packages\\seaborn\\distributions.py:2557: FutureWarning: `distplot` is a deprecated function and will be removed in a future version. Please adapt your code to use either `displot` (a figure-level function with similar flexibility) or `kdeplot` (an axes-level function for kernel density plots).\n",
      "  warnings.warn(msg, FutureWarning)\n"
     ]
    },
    {
     "data": {
      "text/plain": [
       "<matplotlib.legend.Legend at 0x1d6cf9ebf28>"
      ]
     },
     "execution_count": 27,
     "metadata": {},
     "output_type": "execute_result"
    },
    {
     "data": {
      "image/png": "[encoded data removed]",
      "text/plain": [
       "<Figure size 432x288 with 1 Axes>"
      ]
     },
     "metadata": {},
     "output_type": "display_data"
    }
   ],
   "source": [
    "# BEGIN YOUR CODE\n",
    "# -----------------------\n",
    "iphone = trump[trump['source'] == 'Twitter for iPhone']\n",
    "android = trump[trump['source'] == 'Twitter for Android']\n",
    "\n",
    "sns.distplot(iphone['hour'], label = 'iPhone', hist=False)\n",
    "sns.distplot(android['hour'], label = 'Android', hist=False)\n",
    "\n",
    "plt.ylabel('fraction')\n",
    "plt.xticks( [0, 10, 20, 30])\n",
    "plt.legend()\n",
    "# -----------------------\n",
    "# END YOUR CODE"
   ]
  },
  {
   "cell_type": "markdown",
   "metadata": {
    "nbgrader": {
     "grade": false,
     "grade_id": "q4d",
     "locked": true,
     "schema_version": 2,
     "solution": false
    }
   },
   "source": [
    "### Question 5c\n",
    "\n",
    "According to [this Verge article](https://www.theverge.com/2017/3/29/15103504/donald-trump-iphone-using-switched-android), Donald Trump switched from an Android to an iPhone sometime in March 2017.\n",
    "\n",
    "Let's see if this information significantly changes our plot. Create a figure similar to your figure from question 5b, but this time, only use tweets that were tweeted before 2017. Your plot should look similar to the following:\n",
    "\n",
    "<img src=\"images/device_hour4c.png\" width=\"600px\" />\n",
    "\n",
    "<!--\n",
    "BEGIN QUESTION\n",
    "name: q4c\n",
    "points: 2\n",
    "manual: true\n",
    "-->\n",
    "<!-- EXPORT TO PDF -->"
   ]
  },
  {
   "cell_type": "code",
   "execution_count": 28,
   "metadata": {
    "nbgrader": {
     "grade": true,
     "grade_id": "cell-9d60149ec24272e3",
     "locked": false,
     "points": 0,
     "schema_version": 2,
     "solution": true
    }
   },
   "outputs": [
    {
     "name": "stderr",
     "output_type": "stream",
     "text": [
      "c:\\users\\acer\\miniconda3\\lib\\site-packages\\seaborn\\distributions.py:2557: FutureWarning: `distplot` is a deprecated function and will be removed in a future version. Please adapt your code to use either `displot` (a figure-level function with similar flexibility) or `kdeplot` (an axes-level function for kernel density plots).\n",
      "  warnings.warn(msg, FutureWarning)\n",
      "c:\\users\\acer\\miniconda3\\lib\\site-packages\\seaborn\\distributions.py:2557: FutureWarning: `distplot` is a deprecated function and will be removed in a future version. Please adapt your code to use either `displot` (a figure-level function with similar flexibility) or `kdeplot` (an axes-level function for kernel density plots).\n",
      "  warnings.warn(msg, FutureWarning)\n"
     ]
    },
    {
     "data": {
      "text/plain": [
       "<matplotlib.legend.Legend at 0x1d6d1aca908>"
      ]
     },
     "execution_count": 28,
     "metadata": {},
     "output_type": "execute_result"
    },
    {
     "data": {
      "image/png": "[encoded data removed]",
      "text/plain": [
       "<Figure size 432x288 with 1 Axes>"
      ]
     },
     "metadata": {},
     "output_type": "display_data"
    }
   ],
   "source": [
    "# BEGIN YOUR CODE\n",
    "# -----------------------\n",
    "trump['year'] = trump['est_time'].dt.year\n",
    "iphone = trump[(trump['source'] == 'Twitter for iPhone')& (trump['year'] < 2017)]\n",
    "android = trump[(trump['source'] == 'Twitter for Android')& (trump['year'] < 2017)]\n",
    "\n",
    "sns.distplot(iphone['hour'], label = 'iPhone', hist=False)\n",
    "sns.distplot(android['hour'], label = 'Android', hist=False)\n",
    "\n",
    "plt.ylabel('fraction')\n",
    "plt.xticks( [0, 10, 20, 30])\n",
    "plt.legend()\n",
    "\n",
    "# -----------------------\n",
    "# END YOUR CODE"
   ]
  },
  {
   "cell_type": "markdown",
   "metadata": {},
   "source": [
    "### Question 5d\n",
    "\n",
    "During the campaign, it was theorized that Donald Trump's tweets from Android devices were written by him personally, and the tweets from iPhones were from his staff. Does your figure give support to this theory? What kinds of additional analysis could help support or reject this claim?\n",
    "\n",
    "<!--\n",
    "BEGIN QUESTION\n",
    "name: q4d\n",
    "points: 1\n",
    "manual: true\n",
    "-->\n",
    "<!-- EXPORT TO PDF -->"
   ]
  },
  {
   "cell_type": "markdown",
   "metadata": {},
   "source": [
    "Answer: `The result appeared from the graph above does not support the theory. If we look at the graph, we can see that the tweets posted from Android device are distributed with some sort of \"pattern\", the tweets are majorly done by the same time, while posts from Iphone do not show to fit any strict schedule. This makes me believe that the posts from Iphone,that do not necessarily depend on daytime, are done personally by Trump. On the other hand, tweets from Android seem to be posted by his staff. `"
   ]
  },
  {
   "cell_type": "markdown",
   "metadata": {
    "nbgrader": {
     "grade": false,
     "grade_id": "q6-header",
     "locked": true,
     "schema_version": 2,
     "solution": false
    }
   },
   "source": [
    "---\n",
    "# Part 3: Sentiment Analysis\n",
    "\n",
    "It turns out that we can use the words in Trump's tweets to calculate a measure of the sentiment of the tweet. For example, the sentence \"I love America!\" has positive sentiment, whereas the sentence \"I hate taxes!\" has a negative sentiment. In addition, some words have stronger positive / negative sentiment than others: \"I love America.\" is more positive than \"I like America.\"\n",
    "\n",
    "We will use the [VADER (Valence Aware Dictionary and sEntiment Reasoner)](https://github.com/cjhutto/vaderSentiment) lexicon to analyze the sentiment of Trump's tweets. VADER is a lexicon and rule-based sentiment analysis tool that is specifically attuned to sentiments expressed in social media which is great for our usage.\n",
    "\n",
    "The VADER lexicon gives the sentiment of individual words. Run the following cell to show the first few rows of the lexicon:"
   ]
  },
  {
   "cell_type": "code",
   "execution_count": 29,
   "metadata": {
    "nbgrader": {
     "grade": false,
     "grade_id": "head-vader",
     "locked": true,
     "schema_version": 2,
     "solution": false
    }
   },
   "outputs": [
    {
     "name": "stdout",
     "output_type": "stream",
     "text": [
      "$:\t-1.5\t0.80623\t[-1, -1, -1, -1, -3, -1, -3, -1, -2, -1]\n",
      "%)\t-0.4\t1.0198\t[-1, 0, -1, 0, 0, -2, -1, 2, -1, 0]\n",
      "%-)\t-1.5\t1.43178\t[-2, 0, -2, -2, -1, 2, -2, -3, -2, -3]\n",
      "&-:\t-0.4\t1.42829\t[-3, -1, 0, 0, -1, -1, -1, 2, -1, 2]\n",
      "&:\t-0.7\t0.64031\t[0, -1, -1, -1, 1, -1, -1, -1, -1, -1]\n",
      "( '}{' )\t1.6\t0.66332\t[1, 2, 2, 1, 1, 2, 2, 1, 3, 1]\n",
      "(%\t-0.9\t0.9434\t[0, 0, 1, -1, -1, -1, -2, -2, -1, -2]\n",
      "('-:\t2.2\t1.16619\t[4, 1, 4, 3, 1, 2, 3, 1, 2, 1]\n",
      "(':\t2.3\t0.9\t[1, 3, 3, 2, 2, 4, 2, 3, 1, 2]\n",
      "((-:\t2.1\t0.53852\t[2, 2, 2, 1, 2, 3, 2, 2, 3, 2]\n",
      "\n"
     ]
    }
   ],
   "source": [
    "print(''.join(open(\"data/vader_lexicon.txt\").readlines()[:10]))"
   ]
  },
  {
   "cell_type": "markdown",
   "metadata": {
    "nbgrader": {
     "grade": false,
     "grade_id": "q6a-header",
     "locked": true,
     "schema_version": 2,
     "solution": false
    }
   },
   "source": [
    "<br/><br/><br/>\n",
    "<hr style=\"border: 5px solid #990000;\" />\n",
    "<hr style=\"border: 1px solid #dbbcac;\" />\n",
    "\n",
    "## Question 6\n",
    "\n",
    "As you can see, the lexicon contains emojis too! Each row contains a word and the *polarity* of that word, measuring how positive or negative the word is.\n",
    "\n",
    "(How did they decide the polarities of these words? What are the other two columns in the lexicon? See the link above.)\n",
    "\n",
    "### Question 6a\n",
    "\n",
    "Read in the lexicon into a DataFrame called `sent`. The index of the DataFrame should be the words in the lexicon. `sent` should have one column named `polarity`, storing the polarity of each word.\n",
    "\n",
    "* **Hint:** The `pd.read_csv` function may help here. \n",
    "\n",
    "<!--\n",
    "BEGIN QUESTION\n",
    "name: q5a\n",
    "points: 1\n",
    "-->"
   ]
  },
  {
   "cell_type": "code",
   "execution_count": 76,
   "metadata": {
    "nbgrader": {
     "grade": false,
     "grade_id": "q6a1",
     "locked": false,
     "schema_version": 2,
     "solution": true
    },
    "tags": [
     "student"
    ]
   },
   "outputs": [
    {
     "name": "stderr",
     "output_type": "stream",
     "text": [
      "b'Skipping line 55: expected 10 fields, saw 11\\nSkipping line 113: expected 10 fields, saw 11\\n'\n",
      "b'Skipping line 55: expected 10 fields, saw 11\\nSkipping line 113: expected 10 fields, saw 11\\n'\n"
     ]
    },
    {
     "data": {
      "text/html": [
       "<div>\n",
       "<style scoped>\n",
       "    .dataframe tbody tr th:only-of-type {\n",
       "        vertical-align: middle;\n",
       "    }\n",
       "\n",
       "    .dataframe tbody tr th {\n",
       "        vertical-align: top;\n",
       "    }\n",
       "\n",
       "    .dataframe thead th {\n",
       "        text-align: right;\n",
       "    }\n",
       "</style>\n",
       "<table border=\"1\" class=\"dataframe\">\n",
       "  <thead>\n",
       "    <tr style=\"text-align: right;\">\n",
       "      <th></th>\n",
       "      <th>polarity</th>\n",
       "    </tr>\n",
       "  </thead>\n",
       "  <tbody>\n",
       "    <tr>\n",
       "      <th>$:\\t-1.5\\t0.80623\\t[-1</th>\n",
       "      <td>-1</td>\n",
       "    </tr>\n",
       "    <tr>\n",
       "      <th>%)\\t-0.4\\t1.0198\\t[-1</th>\n",
       "      <td>0</td>\n",
       "    </tr>\n",
       "    <tr>\n",
       "      <th>%-)\\t-1.5\\t1.43178\\t[-2</th>\n",
       "      <td>0</td>\n",
       "    </tr>\n",
       "    <tr>\n",
       "      <th>&amp;-:\\t-0.4\\t1.42829\\t[-3</th>\n",
       "      <td>-1</td>\n",
       "    </tr>\n",
       "    <tr>\n",
       "      <th>&amp;:\\t-0.7\\t0.64031\\t[0</th>\n",
       "      <td>-1</td>\n",
       "    </tr>\n",
       "  </tbody>\n",
       "</table>\n",
       "</div>"
      ],
      "text/plain": [
       "                         polarity\n",
       "$:\\t-1.5\\t0.80623\\t[-1         -1\n",
       "%)\\t-0.4\\t1.0198\\t[-1           0\n",
       "%-)\\t-1.5\\t1.43178\\t[-2         0\n",
       "&-:\\t-0.4\\t1.42829\\t[-3        -1\n",
       "&:\\t-0.7\\t0.64031\\t[0          -1"
      ]
     },
     "execution_count": 76,
     "metadata": {},
     "output_type": "execute_result"
    }
   ],
   "source": [
    "# BEGIN YOUR CODE\n",
    "# -----------------------\n",
    "x = pd.read_csv('data/vader_lexicon.txt', header = None,error_bad_lines=False).iloc[:, 0]\n",
    "polarity = {'polarity': pd.read_csv('data/vader_lexicon.txt', header = None,error_bad_lines=False).iloc[:, 1]}\n",
    "\n",
    "sent = pd.DataFrame(data = polarity).set_index(x)\n",
    "sent.index.name = None\n",
    "# -----------------------\n",
    "# END YOUR CODE\n",
    "sent.head()"
   ]
  },
  {
   "cell_type": "code",
   "execution_count": 77,
   "metadata": {},
   "outputs": [
    {
     "name": "stdout",
     "output_type": "stream",
     "text": [
      "~~~~~~~~~~~~~~~~~~~~~~~~~~~~~~~~~~~~~~~~~~~~~~~~~~~~~~~~~~~~~~~~~~~~~\n",
      "Running tests\n",
      "\n",
      "---------------------------------------------------------------------\n",
      "q6a > Suite 1 > Case 2\n",
      "\n",
      ">>> sent.shape\n",
      "(7515, 1)\n",
      "\n",
      "# Error: expected\n",
      "#     (7517, 1)\n",
      "# but got\n",
      "#     (7515, 1)\n",
      "\n",
      "Run only this test case with \"python3 ok -q q6a --suite 1 --case 2\"\n",
      "---------------------------------------------------------------------\n",
      "Test summary\n",
      "    Passed: 1\n",
      "    Failed: 1\n",
      "[oooook.....] 50.0% passed\n",
      "\n"
     ]
    }
   ],
   "source": [
    "ok.grade(\"q6a\");"
   ]
  },
  {
   "cell_type": "markdown",
   "metadata": {
    "nbgrader": {
     "grade": false,
     "grade_id": "q6b-header",
     "locked": true,
     "schema_version": 2,
     "solution": false
    }
   },
   "source": [
    "### Question 6b\n",
    "\n",
    "Now, let's use this lexicon to calculate the overall sentiment for each of Trump's tweets. Here's the basic idea:\n",
    "\n",
    "1. For each tweet, find the sentiment of each word.\n",
    "2. Calculate the sentiment of each tweet by taking the sum of the sentiments of its words.\n",
    "\n",
    "First, let's lowercase the text in the tweets since the lexicon is also lowercase. Set the `text` column of the `trump` DataFrame to be the lowercased text of each tweet.\n",
    "\n",
    "<!--\n",
    "BEGIN QUESTION\n",
    "name: q5b\n",
    "points: 1\n",
    "-->"
   ]
  },
  {
   "cell_type": "code",
   "execution_count": 78,
   "metadata": {
    "nbgrader": {
     "grade": false,
     "grade_id": "q6b-answer",
     "locked": false,
     "schema_version": 2,
     "solution": true
    },
    "tags": [
     "student"
    ]
   },
   "outputs": [
    {
     "data": {
      "text/html": [
       "<div>\n",
       "<style scoped>\n",
       "    .dataframe tbody tr th:only-of-type {\n",
       "        vertical-align: middle;\n",
       "    }\n",
       "\n",
       "    .dataframe tbody tr th {\n",
       "        vertical-align: top;\n",
       "    }\n",
       "\n",
       "    .dataframe thead th {\n",
       "        text-align: right;\n",
       "    }\n",
       "</style>\n",
       "<table border=\"1\" class=\"dataframe\">\n",
       "  <thead>\n",
       "    <tr style=\"text-align: right;\">\n",
       "      <th></th>\n",
       "      <th>time</th>\n",
       "      <th>source</th>\n",
       "      <th>text</th>\n",
       "      <th>retweet_count</th>\n",
       "      <th>year</th>\n",
       "      <th>est_time</th>\n",
       "      <th>hour</th>\n",
       "      <th>no_punc</th>\n",
       "      <th>polarity</th>\n",
       "    </tr>\n",
       "    <tr>\n",
       "      <th>id</th>\n",
       "      <th></th>\n",
       "      <th></th>\n",
       "      <th></th>\n",
       "      <th></th>\n",
       "      <th></th>\n",
       "      <th></th>\n",
       "      <th></th>\n",
       "      <th></th>\n",
       "      <th></th>\n",
       "    </tr>\n",
       "  </thead>\n",
       "  <tbody>\n",
       "    <tr>\n",
       "      <th>786204978629185536</th>\n",
       "      <td>2016-10-12 14:00:48</td>\n",
       "      <td>Twitter for iPhone</td>\n",
       "      <td>pay to play politics. \\n#crookedhillary https://t.co/wjsl8itvvk</td>\n",
       "      <td>24915</td>\n",
       "      <td>2016</td>\n",
       "      <td>2016-10-12 09:00:48-05:00</td>\n",
       "      <td>9.013333</td>\n",
       "      <td>pay to play politics  \\n crookedhillary https   t co wjsl8itvvk</td>\n",
       "      <td>0</td>\n",
       "    </tr>\n",
       "    <tr>\n",
       "      <th>786201435486781440</th>\n",
       "      <td>2016-10-12 13:46:43</td>\n",
       "      <td>Twitter for iPhone</td>\n",
       "      <td>very little pick-up by the dishonest media of incredible information provided by wikileaks. so dishonest! rigged system!</td>\n",
       "      <td>22609</td>\n",
       "      <td>2016</td>\n",
       "      <td>2016-10-12 08:46:43-05:00</td>\n",
       "      <td>8.778611</td>\n",
       "      <td>very little pick up by the dishonest media of incredible information provided by wikileaks  so dishonest  rigged system</td>\n",
       "      <td>0</td>\n",
       "    </tr>\n",
       "    <tr>\n",
       "      <th>786189446274248704</th>\n",
       "      <td>2016-10-12 12:59:05</td>\n",
       "      <td>Twitter for Android</td>\n",
       "      <td>crooked hillary clinton likes to talk about the things she will do but she has been there for 30 years - why didn't she do them?</td>\n",
       "      <td>18329</td>\n",
       "      <td>2016</td>\n",
       "      <td>2016-10-12 07:59:05-05:00</td>\n",
       "      <td>7.984722</td>\n",
       "      <td>crooked hillary clinton likes to talk about the things she will do but she has been there for 30 years   why didn t she do them</td>\n",
       "      <td>0</td>\n",
       "    </tr>\n",
       "    <tr>\n",
       "      <th>786054986534969344</th>\n",
       "      <td>2016-10-12 04:04:47</td>\n",
       "      <td>Twitter for iPhone</td>\n",
       "      <td>thank you florida- a movement that has never been seen before and will never be seen again. lets get out &amp;amp;… https://t.co/t9xm9wfdzi</td>\n",
       "      <td>18789</td>\n",
       "      <td>2016</td>\n",
       "      <td>2016-10-11 23:04:47-05:00</td>\n",
       "      <td>23.079722</td>\n",
       "      <td>thank you florida  a movement that has never been seen before and will never be seen again  lets get out  amp   https   t co t9xm9wfdzi</td>\n",
       "      <td>0</td>\n",
       "    </tr>\n",
       "    <tr>\n",
       "      <th>786007502639038464</th>\n",
       "      <td>2016-10-12 00:56:06</td>\n",
       "      <td>Twitter for iPhone</td>\n",
       "      <td>join me thursday in florida &amp;amp; ohio!\\nwest palm beach, fl at noon:\\nhttps://t.co/jwbznqhxg9\\ncincinnati, oh this 7:30pm:\\nhttps://t.co/5w2uhalpix</td>\n",
       "      <td>7761</td>\n",
       "      <td>2016</td>\n",
       "      <td>2016-10-11 19:56:06-05:00</td>\n",
       "      <td>19.935000</td>\n",
       "      <td>join me thursday in florida  amp  ohio \\nwest palm beach  fl at noon \\nhttps   t co jwbznqhxg9\\ncincinnati  oh this 7 30pm \\nhttps   t co 5w2uhalpix</td>\n",
       "      <td>0</td>\n",
       "    </tr>\n",
       "  </tbody>\n",
       "</table>\n",
       "</div>"
      ],
      "text/plain": [
       "                                  time               source  \\\n",
       "id                                                            \n",
       "786204978629185536 2016-10-12 14:00:48   Twitter for iPhone   \n",
       "786201435486781440 2016-10-12 13:46:43   Twitter for iPhone   \n",
       "786189446274248704 2016-10-12 12:59:05  Twitter for Android   \n",
       "786054986534969344 2016-10-12 04:04:47   Twitter for iPhone   \n",
       "786007502639038464 2016-10-12 00:56:06   Twitter for iPhone   \n",
       "\n",
       "                                                                                                                                                                    text  \\\n",
       "id                                                                                                                                                                         \n",
       "786204978629185536                                                                                       pay to play politics. \\n#crookedhillary https://t.co/wjsl8itvvk   \n",
       "786201435486781440                              very little pick-up by the dishonest media of incredible information provided by wikileaks. so dishonest! rigged system!   \n",
       "786189446274248704                      crooked hillary clinton likes to talk about the things she will do but she has been there for 30 years - why didn't she do them?   \n",
       "786054986534969344               thank you florida- a movement that has never been seen before and will never be seen again. lets get out &amp;… https://t.co/t9xm9wfdzi   \n",
       "786007502639038464  join me thursday in florida &amp; ohio!\\nwest palm beach, fl at noon:\\nhttps://t.co/jwbznqhxg9\\ncincinnati, oh this 7:30pm:\\nhttps://t.co/5w2uhalpix   \n",
       "\n",
       "                    retweet_count  year                  est_time       hour  \\\n",
       "id                                                                             \n",
       "786204978629185536          24915  2016 2016-10-12 09:00:48-05:00   9.013333   \n",
       "786201435486781440          22609  2016 2016-10-12 08:46:43-05:00   8.778611   \n",
       "786189446274248704          18329  2016 2016-10-12 07:59:05-05:00   7.984722   \n",
       "786054986534969344          18789  2016 2016-10-11 23:04:47-05:00  23.079722   \n",
       "786007502639038464           7761  2016 2016-10-11 19:56:06-05:00  19.935000   \n",
       "\n",
       "                                                                                                                                                                 no_punc  \\\n",
       "id                                                                                                                                                                         \n",
       "786204978629185536                                                                                       pay to play politics  \\n crookedhillary https   t co wjsl8itvvk   \n",
       "786201435486781440                              very little pick up by the dishonest media of incredible information provided by wikileaks  so dishonest  rigged system    \n",
       "786189446274248704                      crooked hillary clinton likes to talk about the things she will do but she has been there for 30 years   why didn t she do them    \n",
       "786054986534969344               thank you florida  a movement that has never been seen before and will never be seen again  lets get out  amp   https   t co t9xm9wfdzi   \n",
       "786007502639038464  join me thursday in florida  amp  ohio \\nwest palm beach  fl at noon \\nhttps   t co jwbznqhxg9\\ncincinnati  oh this 7 30pm \\nhttps   t co 5w2uhalpix   \n",
       "\n",
       "                    polarity  \n",
       "id                            \n",
       "786204978629185536         0  \n",
       "786201435486781440         0  \n",
       "786189446274248704         0  \n",
       "786054986534969344         0  \n",
       "786007502639038464         0  "
      ]
     },
     "execution_count": 78,
     "metadata": {},
     "output_type": "execute_result"
    }
   ],
   "source": [
    "# BEGIN SOLUTION\n",
    "trump['text'] = trump['text'].str.lower()\n",
    "# END SOLUTION\n",
    "trump.head()"
   ]
  },
  {
   "cell_type": "code",
   "execution_count": 79,
   "metadata": {},
   "outputs": [
    {
     "name": "stdout",
     "output_type": "stream",
     "text": [
      "~~~~~~~~~~~~~~~~~~~~~~~~~~~~~~~~~~~~~~~~~~~~~~~~~~~~~~~~~~~~~~~~~~~~~\n",
      "Running tests\n",
      "\n",
      "---------------------------------------------------------------------\n",
      "Test summary\n",
      "    Passed: 1\n",
      "    Failed: 0\n",
      "[ooooooooook] 100.0% passed\n",
      "\n"
     ]
    }
   ],
   "source": [
    "ok.grade(\"q6b\");"
   ]
  },
  {
   "cell_type": "markdown",
   "metadata": {
    "nbgrader": {
     "grade": false,
     "grade_id": "q6c-header",
     "locked": true,
     "schema_version": 2,
     "solution": false
    }
   },
   "source": [
    "### Question 6c\n",
    "\n",
    "Now, let's get rid of punctuation since it will cause us to fail to match words. Create a new column called `no_punc` in the `trump` DataFrame to be the lowercased text of each tweet with all punctuation replaced by a single space. We consider punctuation characters to be **any character that isn't a Unicode word character or a whitespace character**. You may want to consult the Python documentation on regexes for this problem.\n",
    "\n",
    "(Why don't we simply remove punctuation instead of replacing with a space? See if you can figure this out by looking at the tweet data.)\n",
    "\n",
    "<!--\n",
    "BEGIN QUESTION\n",
    "name: q5c\n",
    "points: 1\n",
    "-->"
   ]
  },
  {
   "cell_type": "code",
   "execution_count": 80,
   "metadata": {
    "nbgrader": {
     "grade": false,
     "grade_id": "q6c",
     "locked": false,
     "schema_version": 2,
     "solution": true
    },
    "tags": [
     "student"
    ]
   },
   "outputs": [],
   "source": [
    "# BEGIN YOUR CODE\n",
    "# -----------------------\n",
    "punct_re = r'[^a-zA-Z\\d\\s]'\n",
    "trump['no_punc'] = trump['text'].str.replace(punct_re, ' ')\n",
    "# -----------------------\n",
    "# END YOUR CODE"
   ]
  },
  {
   "cell_type": "code",
   "execution_count": 81,
   "metadata": {},
   "outputs": [
    {
     "name": "stdout",
     "output_type": "stream",
     "text": [
      "~~~~~~~~~~~~~~~~~~~~~~~~~~~~~~~~~~~~~~~~~~~~~~~~~~~~~~~~~~~~~~~~~~~~~\n",
      "Running tests\n",
      "\n",
      "---------------------------------------------------------------------\n",
      "Test summary\n",
      "    Passed: 10\n",
      "    Failed: 0\n",
      "[ooooooooook] 100.0% passed\n",
      "\n"
     ]
    }
   ],
   "source": [
    "ok.grade(\"q6c\");"
   ]
  },
  {
   "cell_type": "markdown",
   "metadata": {
    "nbgrader": {
     "grade": false,
     "grade_id": "q6d-header",
     "locked": true,
     "schema_version": 2,
     "solution": false
    }
   },
   "source": [
    "### Question 6d\n",
    "\n",
    "Now, let's convert the tweets into what's called a [*tidy format*](https://cran.r-project.org/web/packages/tidyr/vignettes/tidy-data.html) to make the sentiments easier to calculate. Use the `no_punc` column of `trump` to create a table called `tidy_format`. The index of the table should be the IDs of the tweets, repeated once for every word in the tweet. It has two columns:\n",
    "\n",
    "1. `num`: The location of the word in the tweet. For example, if the tweet was \"i love america\", then the location of the word \"i\" is 0, \"love\" is 1, and \"america\" is 2.\n",
    "2. `word`: The individual words of each tweet.\n",
    "\n",
    "The first few rows of our `tidy_format` table look like:\n",
    "\n",
    "<table border=\"1\" class=\"dataframe\">\n",
    "  <thead>\n",
    "    <tr style=\"text-align: right;\">\n",
    "      <th></th>\n",
    "      <th>num</th>\n",
    "      <th>word</th>\n",
    "    </tr>\n",
    "  </thead>\n",
    "  <tbody>\n",
    "    <tr>\n",
    "      <th>894661651760377856</th>\n",
    "      <td>0</td>\n",
    "      <td>i</td>\n",
    "    </tr>\n",
    "    <tr>\n",
    "      <th>894661651760377856</th>\n",
    "      <td>1</td>\n",
    "      <td>think</td>\n",
    "    </tr>\n",
    "    <tr>\n",
    "      <th>894661651760377856</th>\n",
    "      <td>2</td>\n",
    "      <td>senator</td>\n",
    "    </tr>\n",
    "    <tr>\n",
    "      <th>894661651760377856</th>\n",
    "      <td>3</td>\n",
    "      <td>blumenthal</td>\n",
    "    </tr>\n",
    "    <tr>\n",
    "      <th>894661651760377856</th>\n",
    "      <td>4</td>\n",
    "      <td>should</td>\n",
    "    </tr>\n",
    "  </tbody>\n",
    "</table>\n",
    "\n",
    "**Note that your DataFrame may look different from the one above.** However, you can double check that your tweet with ID `894661651760377856` has the same rows as ours. Our tests don't check whether your table looks exactly like ours.\n",
    "\n",
    "As usual, try to avoid using any for loops. Our solution uses a chain of 5 methods on the `trump` DataFrame, albeit using some rather advanced Pandas hacking.\n",
    "\n",
    "* **Hint 1:** Try looking at the `expand` argument to pandas' `str.split`.\n",
    "\n",
    "* **Hint 2:** Try looking at the `stack()` method.\n",
    "\n",
    "* **Hint 3:** Try looking at the `level` parameter of the `reset_index` method.\n",
    "\n",
    "<!--\n",
    "BEGIN QUESTION\n",
    "name: q5d\n",
    "points: 2\n",
    "-->"
   ]
  },
  {
   "cell_type": "code",
   "execution_count": 82,
   "metadata": {
    "nbgrader": {
     "grade": false,
     "grade_id": "q6d-answer",
     "locked": false,
     "schema_version": 2,
     "solution": true
    },
    "tags": [
     "student"
    ]
   },
   "outputs": [
    {
     "data": {
      "text/html": [
       "<div>\n",
       "<style scoped>\n",
       "    .dataframe tbody tr th:only-of-type {\n",
       "        vertical-align: middle;\n",
       "    }\n",
       "\n",
       "    .dataframe tbody tr th {\n",
       "        vertical-align: top;\n",
       "    }\n",
       "\n",
       "    .dataframe thead th {\n",
       "        text-align: right;\n",
       "    }\n",
       "</style>\n",
       "<table border=\"1\" class=\"dataframe\">\n",
       "  <thead>\n",
       "    <tr style=\"text-align: right;\">\n",
       "      <th></th>\n",
       "      <th>num</th>\n",
       "      <th>word</th>\n",
       "    </tr>\n",
       "    <tr>\n",
       "      <th>id</th>\n",
       "      <th></th>\n",
       "      <th></th>\n",
       "    </tr>\n",
       "  </thead>\n",
       "  <tbody>\n",
       "    <tr>\n",
       "      <th>786204978629185536</th>\n",
       "      <td>0</td>\n",
       "      <td>pay</td>\n",
       "    </tr>\n",
       "    <tr>\n",
       "      <th>786204978629185536</th>\n",
       "      <td>1</td>\n",
       "      <td>to</td>\n",
       "    </tr>\n",
       "    <tr>\n",
       "      <th>786204978629185536</th>\n",
       "      <td>2</td>\n",
       "      <td>play</td>\n",
       "    </tr>\n",
       "    <tr>\n",
       "      <th>786204978629185536</th>\n",
       "      <td>3</td>\n",
       "      <td>politics</td>\n",
       "    </tr>\n",
       "    <tr>\n",
       "      <th>786204978629185536</th>\n",
       "      <td>4</td>\n",
       "      <td>crookedhillary</td>\n",
       "    </tr>\n",
       "  </tbody>\n",
       "</table>\n",
       "</div>"
      ],
      "text/plain": [
       "                    num            word\n",
       "id                                     \n",
       "786204978629185536    0             pay\n",
       "786204978629185536    1              to\n",
       "786204978629185536    2            play\n",
       "786204978629185536    3        politics\n",
       "786204978629185536    4  crookedhillary"
      ]
     },
     "execution_count": 82,
     "metadata": {},
     "output_type": "execute_result"
    }
   ],
   "source": [
    "# BEGIN YOUR CODE\n",
    "# -----------------------\n",
    "tidy_format = trump['no_punc'].str.split(expand=True).stack().to_frame().reset_index(level = 1)\n",
    "tidy_format.columns = [\"num\", \"word\"]\n",
    "# -----------------------\n",
    "# END YOUR CODE\n",
    "tidy_format.head()"
   ]
  },
  {
   "cell_type": "code",
   "execution_count": 83,
   "metadata": {},
   "outputs": [
    {
     "name": "stdout",
     "output_type": "stream",
     "text": [
      "~~~~~~~~~~~~~~~~~~~~~~~~~~~~~~~~~~~~~~~~~~~~~~~~~~~~~~~~~~~~~~~~~~~~~\n",
      "Running tests\n",
      "\n",
      "---------------------------------------------------------------------\n",
      "Test summary\n",
      "    Passed: 2\n",
      "    Failed: 0\n",
      "[ooooooooook] 100.0% passed\n",
      "\n"
     ]
    }
   ],
   "source": [
    "ok.grade(\"q6d\");"
   ]
  },
  {
   "cell_type": "markdown",
   "metadata": {
    "nbgrader": {
     "grade": false,
     "grade_id": "q6e-header",
     "locked": true,
     "schema_version": 2,
     "solution": false
    }
   },
   "source": [
    "### Question 6e\n",
    "\n",
    "Now that we have this table in the tidy format, it becomes much easier to find the sentiment of each tweet: we can join the table with the lexicon table. \n",
    "\n",
    "Add a `polarity` column to the `trump` table.  The `polarity` column should contain the sum of the sentiment polarity of each word in the text of the tweet.\n",
    "\n",
    "**Hints:** \n",
    "* You will need to merge the `tidy_format` and `sent` tables and group the final answer.\n",
    "* If certain words are not found in the `sent` table, set their polarities to 0.\n",
    "\n",
    "<!--\n",
    "BEGIN QUESTION\n",
    "name: q5e\n",
    "points: 2\n",
    "-->"
   ]
  },
  {
   "cell_type": "code",
   "execution_count": 90,
   "metadata": {
    "nbgrader": {
     "grade": false,
     "grade_id": "q6e",
     "locked": false,
     "schema_version": 2,
     "solution": true
    },
    "tags": [
     "student"
    ]
   },
   "outputs": [
    {
     "data": {
      "text/html": [
       "<div>\n",
       "<style scoped>\n",
       "    .dataframe tbody tr th:only-of-type {\n",
       "        vertical-align: middle;\n",
       "    }\n",
       "\n",
       "    .dataframe tbody tr th {\n",
       "        vertical-align: top;\n",
       "    }\n",
       "\n",
       "    .dataframe thead th {\n",
       "        text-align: right;\n",
       "    }\n",
       "</style>\n",
       "<table border=\"1\" class=\"dataframe\">\n",
       "  <thead>\n",
       "    <tr style=\"text-align: right;\">\n",
       "      <th></th>\n",
       "      <th>text</th>\n",
       "      <th>polarity</th>\n",
       "    </tr>\n",
       "    <tr>\n",
       "      <th>id</th>\n",
       "      <th></th>\n",
       "      <th></th>\n",
       "    </tr>\n",
       "  </thead>\n",
       "  <tbody>\n",
       "    <tr>\n",
       "      <th>786204978629185536</th>\n",
       "      <td>pay to play politics. \\n#crookedhillary https://t.co/wjsl8itvvk</td>\n",
       "      <td>0</td>\n",
       "    </tr>\n",
       "    <tr>\n",
       "      <th>786201435486781440</th>\n",
       "      <td>very little pick-up by the dishonest media of incredible information provided by wikileaks. so dishonest! rigged system!</td>\n",
       "      <td>0</td>\n",
       "    </tr>\n",
       "    <tr>\n",
       "      <th>786189446274248704</th>\n",
       "      <td>crooked hillary clinton likes to talk about the things she will do but she has been there for 30 years - why didn't she do them?</td>\n",
       "      <td>0</td>\n",
       "    </tr>\n",
       "    <tr>\n",
       "      <th>786054986534969344</th>\n",
       "      <td>thank you florida- a movement that has never been seen before and will never be seen again. lets get out &amp;amp;… https://t.co/t9xm9wfdzi</td>\n",
       "      <td>0</td>\n",
       "    </tr>\n",
       "    <tr>\n",
       "      <th>786007502639038464</th>\n",
       "      <td>join me thursday in florida &amp;amp; ohio!\\nwest palm beach, fl at noon:\\nhttps://t.co/jwbznqhxg9\\ncincinnati, oh this 7:30pm:\\nhttps://t.co/5w2uhalpix</td>\n",
       "      <td>0</td>\n",
       "    </tr>\n",
       "  </tbody>\n",
       "</table>\n",
       "</div>"
      ],
      "text/plain": [
       "                                                                                                                                                                    text  \\\n",
       "id                                                                                                                                                                         \n",
       "786204978629185536                                                                                       pay to play politics. \\n#crookedhillary https://t.co/wjsl8itvvk   \n",
       "786201435486781440                              very little pick-up by the dishonest media of incredible information provided by wikileaks. so dishonest! rigged system!   \n",
       "786189446274248704                      crooked hillary clinton likes to talk about the things she will do but she has been there for 30 years - why didn't she do them?   \n",
       "786054986534969344               thank you florida- a movement that has never been seen before and will never be seen again. lets get out &amp;… https://t.co/t9xm9wfdzi   \n",
       "786007502639038464  join me thursday in florida &amp; ohio!\\nwest palm beach, fl at noon:\\nhttps://t.co/jwbznqhxg9\\ncincinnati, oh this 7:30pm:\\nhttps://t.co/5w2uhalpix   \n",
       "\n",
       "                    polarity  \n",
       "id                            \n",
       "786204978629185536         0  \n",
       "786201435486781440         0  \n",
       "786189446274248704         0  \n",
       "786054986534969344         0  \n",
       "786007502639038464         0  "
      ]
     },
     "execution_count": 90,
     "metadata": {},
     "output_type": "execute_result"
    }
   ],
   "source": [
    "# BEGIN YOUR CODE\n",
    "# -----------------------\n",
    "trump['polarity'] = (tidy_format.merge(sent, left_on = 'word', \n",
    "                                       right_index = True)['polarity'].sum())\n",
    "trump['polarity'].replace(np.float64('nan'), 0, inplace = True)\n",
    "# -----------------------\n",
    "# END YOUR CODE\n",
    "trump[['text', 'polarity']].head()"
   ]
  },
  {
   "cell_type": "code",
   "execution_count": 91,
   "metadata": {},
   "outputs": [
    {
     "name": "stdout",
     "output_type": "stream",
     "text": [
      "~~~~~~~~~~~~~~~~~~~~~~~~~~~~~~~~~~~~~~~~~~~~~~~~~~~~~~~~~~~~~~~~~~~~~\n",
      "Running tests\n",
      "\n",
      "---------------------------------------------------------------------\n",
      "q6e > Suite 1 > Case 1\n",
      "\n",
      ">>> np.allclose(trump.loc[744701872456536064, 'polarity'], 8.4)\n",
      "False\n",
      "\n",
      "# Error: expected\n",
      "#     True\n",
      "# but got\n",
      "#     False\n",
      "\n",
      "Run only this test case with \"python3 ok -q q6e --suite 1 --case 1\"\n",
      "---------------------------------------------------------------------\n",
      "Test summary\n",
      "    Passed: 0\n",
      "    Failed: 1\n",
      "[k..........] 0.0% passed\n",
      "\n"
     ]
    }
   ],
   "source": [
    "ok.grade(\"q6e\");"
   ]
  },
  {
   "cell_type": "markdown",
   "metadata": {
    "nbgrader": {
     "grade": false,
     "grade_id": "a-note-on-vader",
     "locked": true,
     "schema_version": 2,
     "solution": false
    }
   },
   "source": [
    "Now we have a measure of the sentiment of each of his tweets! Note that this calculation is rather basic; you can read over the VADER readme to understand a more robust sentiment analysis.\n",
    "\n",
    "Now, run the cells below to see the most positive and most negative tweets from Trump in your dataset:"
   ]
  },
  {
   "cell_type": "code",
   "execution_count": 92,
   "metadata": {
    "nbgrader": {
     "grade": false,
     "grade_id": "negative-tweets",
     "locked": true,
     "schema_version": 2,
     "solution": false
    }
   },
   "outputs": [
    {
     "name": "stdout",
     "output_type": "stream",
     "text": [
      "Most negative tweets:\n",
      "\n",
      "   pay to play politics. \n",
      "#crookedhillary https://t.co/wjsl8itvvk\n",
      "\n",
      "   nan\n",
      "\n",
      "   nan\n",
      "\n",
      "   nan\n",
      "\n",
      "   nan\n"
     ]
    }
   ],
   "source": [
    "print('Most negative tweets:')\n",
    "for t in trump.sort_values('polarity').head()['text']:\n",
    "    print('\\n  ', t)"
   ]
  },
  {
   "cell_type": "code",
   "execution_count": 93,
   "metadata": {
    "nbgrader": {
     "grade": false,
     "grade_id": "postive-tweets",
     "locked": true,
     "schema_version": 2,
     "solution": false
    },
    "scrolled": true
   },
   "outputs": [
    {
     "name": "stdout",
     "output_type": "stream",
     "text": [
      "Most positive tweets:\n",
      "\n",
      "   pay to play politics. \n",
      "#crookedhillary https://t.co/wjsl8itvvk\n",
      "\n",
      "   nan\n",
      "\n",
      "   nan\n",
      "\n",
      "   nan\n",
      "\n",
      "   nan\n"
     ]
    }
   ],
   "source": [
    "print('Most positive tweets:')\n",
    "for t in trump.sort_values('polarity', ascending=False).head()['text']:\n",
    "    print('\\n  ', t)"
   ]
  },
  {
   "cell_type": "markdown",
   "metadata": {
    "nbgrader": {
     "grade": false,
     "grade_id": "q6g",
     "locked": true,
     "schema_version": 2,
     "solution": false
    }
   },
   "source": [
    "---\n",
    "\n",
    "Now, let's try looking at the distributions of sentiments for tweets containing certain keywords.\n",
    "\n",
    "In the cell below, we create a single plot showing both the distribution of tweet sentiments for tweets containing `nytimes`, as well as the distribution of tweet sentiments for tweets containing `fox`. Here, we notice that the president appears to say more positive things about Fox than the New York Times."
   ]
  },
  {
   "cell_type": "code",
   "execution_count": 94,
   "metadata": {
    "nbgrader": {
     "grade": true,
     "grade_id": "q6g-answer",
     "locked": false,
     "points": 1,
     "schema_version": 2,
     "solution": true
    },
    "tags": [
     "student"
    ]
   },
   "outputs": [
    {
     "ename": "ValueError",
     "evalue": "Cannot mask with non-boolean array containing NA / NaN values",
     "output_type": "error",
     "traceback": [
      "\u001b[1;31m---------------------------------------------------------------------------\u001b[0m",
      "\u001b[1;31mValueError\u001b[0m                                Traceback (most recent call last)",
      "\u001b[1;32m<ipython-input-94-2c44e2f04d2d>\u001b[0m in \u001b[0;36m<module>\u001b[1;34m\u001b[0m\n\u001b[1;32m----> 1\u001b[1;33m \u001b[0msns\u001b[0m\u001b[1;33m.\u001b[0m\u001b[0mdistplot\u001b[0m\u001b[1;33m(\u001b[0m\u001b[0mtrump\u001b[0m\u001b[1;33m[\u001b[0m\u001b[0mtrump\u001b[0m\u001b[1;33m[\u001b[0m\u001b[1;34m'text'\u001b[0m\u001b[1;33m]\u001b[0m\u001b[1;33m.\u001b[0m\u001b[0mstr\u001b[0m\u001b[1;33m.\u001b[0m\u001b[0mlower\u001b[0m\u001b[1;33m(\u001b[0m\u001b[1;33m)\u001b[0m\u001b[1;33m.\u001b[0m\u001b[0mstr\u001b[0m\u001b[1;33m.\u001b[0m\u001b[0mcontains\u001b[0m\u001b[1;33m(\u001b[0m\u001b[1;34m\"nytimes\"\u001b[0m\u001b[1;33m)\u001b[0m\u001b[1;33m]\u001b[0m\u001b[1;33m[\u001b[0m\u001b[1;34m'polarity'\u001b[0m\u001b[1;33m]\u001b[0m\u001b[1;33m,\u001b[0m \u001b[0mlabel\u001b[0m \u001b[1;33m=\u001b[0m \u001b[1;34m'nytimes'\u001b[0m\u001b[1;33m)\u001b[0m\u001b[1;33m\u001b[0m\u001b[0m\n\u001b[0m\u001b[0;32m      2\u001b[0m \u001b[0msns\u001b[0m\u001b[1;33m.\u001b[0m\u001b[0mdistplot\u001b[0m\u001b[1;33m(\u001b[0m\u001b[0mtrump\u001b[0m\u001b[1;33m[\u001b[0m\u001b[0mtrump\u001b[0m\u001b[1;33m[\u001b[0m\u001b[1;34m'text'\u001b[0m\u001b[1;33m]\u001b[0m\u001b[1;33m.\u001b[0m\u001b[0mstr\u001b[0m\u001b[1;33m.\u001b[0m\u001b[0mlower\u001b[0m\u001b[1;33m(\u001b[0m\u001b[1;33m)\u001b[0m\u001b[1;33m.\u001b[0m\u001b[0mstr\u001b[0m\u001b[1;33m.\u001b[0m\u001b[0mcontains\u001b[0m\u001b[1;33m(\u001b[0m\u001b[1;34m\"fox\"\u001b[0m\u001b[1;33m)\u001b[0m\u001b[1;33m]\u001b[0m\u001b[1;33m[\u001b[0m\u001b[1;34m'polarity'\u001b[0m\u001b[1;33m]\u001b[0m\u001b[1;33m,\u001b[0m \u001b[0mlabel\u001b[0m \u001b[1;33m=\u001b[0m \u001b[1;34m'fox'\u001b[0m\u001b[1;33m)\u001b[0m\u001b[1;33m\u001b[0m\u001b[0m\n\u001b[0;32m      3\u001b[0m \u001b[0mplt\u001b[0m\u001b[1;33m.\u001b[0m\u001b[0mtitle\u001b[0m\u001b[1;33m(\u001b[0m\u001b[1;34m'Distributions of Tweet Polarities (nytimes vs. fox)'\u001b[0m\u001b[1;33m)\u001b[0m\u001b[1;33m\u001b[0m\u001b[0m\n\u001b[0;32m      4\u001b[0m \u001b[0mplt\u001b[0m\u001b[1;33m.\u001b[0m\u001b[0mlegend\u001b[0m\u001b[1;33m(\u001b[0m\u001b[1;33m)\u001b[0m\u001b[1;33m;\u001b[0m\u001b[1;33m\u001b[0m\u001b[0m\n",
      "\u001b[1;32mc:\\users\\acer\\miniconda3\\lib\\site-packages\\pandas\\core\\frame.py\u001b[0m in \u001b[0;36m__getitem__\u001b[1;34m(self, key)\u001b[0m\n\u001b[0;32m   2894\u001b[0m \u001b[1;33m\u001b[0m\u001b[0m\n\u001b[0;32m   2895\u001b[0m         \u001b[1;31m# Do we have a (boolean) 1d indexer?\u001b[0m\u001b[1;33m\u001b[0m\u001b[1;33m\u001b[0m\u001b[0m\n\u001b[1;32m-> 2896\u001b[1;33m         \u001b[1;32mif\u001b[0m \u001b[0mcom\u001b[0m\u001b[1;33m.\u001b[0m\u001b[0mis_bool_indexer\u001b[0m\u001b[1;33m(\u001b[0m\u001b[0mkey\u001b[0m\u001b[1;33m)\u001b[0m\u001b[1;33m:\u001b[0m\u001b[1;33m\u001b[0m\u001b[0m\n\u001b[0m\u001b[0;32m   2897\u001b[0m             \u001b[1;32mreturn\u001b[0m \u001b[0mself\u001b[0m\u001b[1;33m.\u001b[0m\u001b[0m_getitem_bool_array\u001b[0m\u001b[1;33m(\u001b[0m\u001b[0mkey\u001b[0m\u001b[1;33m)\u001b[0m\u001b[1;33m\u001b[0m\u001b[0m\n\u001b[0;32m   2898\u001b[0m \u001b[1;33m\u001b[0m\u001b[0m\n",
      "\u001b[1;32mc:\\users\\acer\\miniconda3\\lib\\site-packages\\pandas\\core\\common.py\u001b[0m in \u001b[0;36mis_bool_indexer\u001b[1;34m(key)\u001b[0m\n\u001b[0;32m    132\u001b[0m                 \u001b[0mna_msg\u001b[0m \u001b[1;33m=\u001b[0m \u001b[1;34m\"Cannot mask with non-boolean array containing NA / NaN values\"\u001b[0m\u001b[1;33m\u001b[0m\u001b[0m\n\u001b[0;32m    133\u001b[0m                 \u001b[1;32mif\u001b[0m \u001b[0misna\u001b[0m\u001b[1;33m(\u001b[0m\u001b[0mkey\u001b[0m\u001b[1;33m)\u001b[0m\u001b[1;33m.\u001b[0m\u001b[0many\u001b[0m\u001b[1;33m(\u001b[0m\u001b[1;33m)\u001b[0m\u001b[1;33m:\u001b[0m\u001b[1;33m\u001b[0m\u001b[0m\n\u001b[1;32m--> 134\u001b[1;33m                     \u001b[1;32mraise\u001b[0m \u001b[0mValueError\u001b[0m\u001b[1;33m(\u001b[0m\u001b[0mna_msg\u001b[0m\u001b[1;33m)\u001b[0m\u001b[1;33m\u001b[0m\u001b[0m\n\u001b[0m\u001b[0;32m    135\u001b[0m                 \u001b[1;32mreturn\u001b[0m \u001b[1;32mFalse\u001b[0m\u001b[1;33m\u001b[0m\u001b[0m\n\u001b[0;32m    136\u001b[0m             \u001b[1;32mreturn\u001b[0m \u001b[1;32mTrue\u001b[0m\u001b[1;33m\u001b[0m\u001b[0m\n",
      "\u001b[1;31mValueError\u001b[0m: Cannot mask with non-boolean array containing NA / NaN values"
     ]
    }
   ],
   "source": [
    "sns.distplot(trump[trump['text'].str.lower().str.contains(\"nytimes\")]['polarity'], label = 'nytimes')\n",
    "sns.distplot(trump[trump['text'].str.lower().str.contains(\"fox\")]['polarity'], label = 'fox')\n",
    "plt.title('Distributions of Tweet Polarities (nytimes vs. fox)')\n",
    "plt.legend();"
   ]
  },
  {
   "cell_type": "markdown",
   "metadata": {},
   "source": [
    "### Congratulations! You have completed HW2.\n",
    "\n",
    "Make sure you have run all cells in your notebook in order before running the cell below, so that all images/graphs appear in the output.,\n",
    "\n",
    "Please generate pdf as follows and submit it to Gradescope.\n",
    "\n",
    "**File > Print Preview > Print > Save as pdf**\n",
    "\n",
    "**Please save before submitting!**\n",
    "\n",
    "<!-- EXPECT 5 EXPORTED QUESTIONS -->"
   ]
  },
  {
   "cell_type": "code",
   "execution_count": null,
   "metadata": {},
   "outputs": [],
   "source": []
  }
 ],
 "metadata": {
  "kernelspec": {
   "display_name": "Python 3",
   "language": "python",
   "name": "python3"
  },
  "language_info": {
   "codemirror_mode": {
    "name": "ipython",
    "version": 3
   },
   "file_extension": ".py",
   "mimetype": "text/x-python",
   "name": "python",
   "nbconvert_exporter": "python",
   "pygments_lexer": "ipython3",
   "version": "3.7.0"
  }
 },
 "nbformat": 4,
 "nbformat_minor": 2
}
